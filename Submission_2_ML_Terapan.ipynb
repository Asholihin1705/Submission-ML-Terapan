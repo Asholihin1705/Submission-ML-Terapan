{
  "cells": [
    {
      "cell_type": "markdown",
      "source": [
        "**Melakukan Import Library yang dibutuhkan untuk projek**"
      ],
      "metadata": {
        "id": "97gmUQLP9klC"
      }
    },
    {
      "cell_type": "code",
      "execution_count": null,
      "metadata": {
        "id": "_5hVWGjyReTM"
      },
      "outputs": [],
      "source": [
        "import pandas as pd\n",
        "import numpy as np\n",
        "import matplotlib.pyplot as plt\n",
        "import seaborn as sns\n",
        "import plotly.express as px\n",
        "import plotly.graph_objects as go\n",
        "from tqdm import tqdm\n",
        "import warnings\n",
        "\n",
        "plt.style.use(\"fivethirtyeight\")\n",
        "warnings.filterwarnings(\"ignore\")"
      ]
    },
    {
      "cell_type": "markdown",
      "source": [
        "# Data Understanding"
      ],
      "metadata": {
        "id": "flNoBO3g93Ge"
      }
    },
    {
      "cell_type": "markdown",
      "source": [
        "**Meinput dataset yang dibutuhkan seperti data rating, movies, keywords, dan credit. Serta menampilkan ukuran dari data tersebut**"
      ],
      "metadata": {
        "id": "z37qQjdb98Nh"
      }
    },
    {
      "cell_type": "code",
      "execution_count": null,
      "metadata": {
        "colab": {
          "base_uri": "https://localhost:8080/"
        },
        "id": "t32tdmuDR2St",
        "outputId": "397afd33-638a-4510-8fa3-36712b809b29"
      },
      "outputs": [
        {
          "name": "stdout",
          "output_type": "stream",
          "text": [
            "Rating shape: (26024289, 4)\n",
            "Movies shape: (45466, 24)\n",
            "Keywords shape: (46419, 2)\n",
            "Credits shape: (45476, 3)\n"
          ]
        }
      ],
      "source": [
        "rating = pd.read_csv('C:/Users/ASUS/Downloads/ratings.csv')\n",
        "movies = pd.read_csv('C:/Users/ASUS/Downloads/movies_metadata.csv')\n",
        "keywords = pd.read_csv('C:/Users/ASUS/Downloads/keywords.csv')\n",
        "credits = pd.read_csv('C:/Users/ASUS/Downloads/credits.csv')\n",
        "\n",
        "print('Rating shape:', rating.shape)\n",
        "print('Movies shape:', movies.shape)\n",
        "print('Keywords shape:', keywords.shape)\n",
        "print('Credits shape:', credits.shape)"
      ]
    },
    {
      "cell_type": "markdown",
      "source": [
        "Menampilkan 5 data teratas dari Rating"
      ],
      "metadata": {
        "id": "R1j_YGUH-VPw"
      }
    },
    {
      "cell_type": "code",
      "execution_count": null,
      "metadata": {
        "id": "tTOK052qTgHe",
        "outputId": "8ee4cabe-58d6-4e46-d7a9-9e369b000ef0"
      },
      "outputs": [
        {
          "data": {
            "text/html": [
              "<div>\n",
              "<style scoped>\n",
              "    .dataframe tbody tr th:only-of-type {\n",
              "        vertical-align: middle;\n",
              "    }\n",
              "\n",
              "    .dataframe tbody tr th {\n",
              "        vertical-align: top;\n",
              "    }\n",
              "\n",
              "    .dataframe thead th {\n",
              "        text-align: right;\n",
              "    }\n",
              "</style>\n",
              "<table border=\"1\" class=\"dataframe\">\n",
              "  <thead>\n",
              "    <tr style=\"text-align: right;\">\n",
              "      <th></th>\n",
              "      <th>userId</th>\n",
              "      <th>movieId</th>\n",
              "      <th>rating</th>\n",
              "      <th>timestamp</th>\n",
              "    </tr>\n",
              "  </thead>\n",
              "  <tbody>\n",
              "    <tr>\n",
              "      <th>0</th>\n",
              "      <td>1</td>\n",
              "      <td>110</td>\n",
              "      <td>1.0</td>\n",
              "      <td>1425941529</td>\n",
              "    </tr>\n",
              "    <tr>\n",
              "      <th>1</th>\n",
              "      <td>1</td>\n",
              "      <td>147</td>\n",
              "      <td>4.5</td>\n",
              "      <td>1425942435</td>\n",
              "    </tr>\n",
              "    <tr>\n",
              "      <th>2</th>\n",
              "      <td>1</td>\n",
              "      <td>858</td>\n",
              "      <td>5.0</td>\n",
              "      <td>1425941523</td>\n",
              "    </tr>\n",
              "    <tr>\n",
              "      <th>3</th>\n",
              "      <td>1</td>\n",
              "      <td>1221</td>\n",
              "      <td>5.0</td>\n",
              "      <td>1425941546</td>\n",
              "    </tr>\n",
              "    <tr>\n",
              "      <th>4</th>\n",
              "      <td>1</td>\n",
              "      <td>1246</td>\n",
              "      <td>5.0</td>\n",
              "      <td>1425941556</td>\n",
              "    </tr>\n",
              "  </tbody>\n",
              "</table>\n",
              "</div>"
            ],
            "text/plain": [
              "   userId  movieId  rating   timestamp\n",
              "0       1      110     1.0  1425941529\n",
              "1       1      147     4.5  1425942435\n",
              "2       1      858     5.0  1425941523\n",
              "3       1     1221     5.0  1425941546\n",
              "4       1     1246     5.0  1425941556"
            ]
          },
          "execution_count": 5,
          "metadata": {},
          "output_type": "execute_result"
        }
      ],
      "source": [
        "rating.head()"
      ]
    },
    {
      "cell_type": "markdown",
      "source": [
        "Menampilkan 5 data teratas dari Movie"
      ],
      "metadata": {
        "id": "LpO_Jfgu-eZ1"
      }
    },
    {
      "cell_type": "code",
      "execution_count": null,
      "metadata": {
        "id": "jPtKCltKTj__",
        "outputId": "c0aa457a-9810-41ab-fa4a-0523233d536a"
      },
      "outputs": [
        {
          "data": {
            "text/html": [
              "<div>\n",
              "<style scoped>\n",
              "    .dataframe tbody tr th:only-of-type {\n",
              "        vertical-align: middle;\n",
              "    }\n",
              "\n",
              "    .dataframe tbody tr th {\n",
              "        vertical-align: top;\n",
              "    }\n",
              "\n",
              "    .dataframe thead th {\n",
              "        text-align: right;\n",
              "    }\n",
              "</style>\n",
              "<table border=\"1\" class=\"dataframe\">\n",
              "  <thead>\n",
              "    <tr style=\"text-align: right;\">\n",
              "      <th></th>\n",
              "      <th>adult</th>\n",
              "      <th>belongs_to_collection</th>\n",
              "      <th>budget</th>\n",
              "      <th>genres</th>\n",
              "      <th>homepage</th>\n",
              "      <th>id</th>\n",
              "      <th>imdb_id</th>\n",
              "      <th>original_language</th>\n",
              "      <th>original_title</th>\n",
              "      <th>overview</th>\n",
              "      <th>...</th>\n",
              "      <th>release_date</th>\n",
              "      <th>revenue</th>\n",
              "      <th>runtime</th>\n",
              "      <th>spoken_languages</th>\n",
              "      <th>status</th>\n",
              "      <th>tagline</th>\n",
              "      <th>title</th>\n",
              "      <th>video</th>\n",
              "      <th>vote_average</th>\n",
              "      <th>vote_count</th>\n",
              "    </tr>\n",
              "  </thead>\n",
              "  <tbody>\n",
              "    <tr>\n",
              "      <th>0</th>\n",
              "      <td>False</td>\n",
              "      <td>{'id': 10194, 'name': 'Toy Story Collection', ...</td>\n",
              "      <td>30000000</td>\n",
              "      <td>[{'id': 16, 'name': 'Animation'}, {'id': 35, '...</td>\n",
              "      <td>http://toystory.disney.com/toy-story</td>\n",
              "      <td>862</td>\n",
              "      <td>tt0114709</td>\n",
              "      <td>en</td>\n",
              "      <td>Toy Story</td>\n",
              "      <td>Led by Woody, Andy's toys live happily in his ...</td>\n",
              "      <td>...</td>\n",
              "      <td>1995-10-30</td>\n",
              "      <td>373554033.0</td>\n",
              "      <td>81.0</td>\n",
              "      <td>[{'iso_639_1': 'en', 'name': 'English'}]</td>\n",
              "      <td>Released</td>\n",
              "      <td>NaN</td>\n",
              "      <td>Toy Story</td>\n",
              "      <td>False</td>\n",
              "      <td>7.7</td>\n",
              "      <td>5415.0</td>\n",
              "    </tr>\n",
              "    <tr>\n",
              "      <th>1</th>\n",
              "      <td>False</td>\n",
              "      <td>NaN</td>\n",
              "      <td>65000000</td>\n",
              "      <td>[{'id': 12, 'name': 'Adventure'}, {'id': 14, '...</td>\n",
              "      <td>NaN</td>\n",
              "      <td>8844</td>\n",
              "      <td>tt0113497</td>\n",
              "      <td>en</td>\n",
              "      <td>Jumanji</td>\n",
              "      <td>When siblings Judy and Peter discover an encha...</td>\n",
              "      <td>...</td>\n",
              "      <td>1995-12-15</td>\n",
              "      <td>262797249.0</td>\n",
              "      <td>104.0</td>\n",
              "      <td>[{'iso_639_1': 'en', 'name': 'English'}, {'iso...</td>\n",
              "      <td>Released</td>\n",
              "      <td>Roll the dice and unleash the excitement!</td>\n",
              "      <td>Jumanji</td>\n",
              "      <td>False</td>\n",
              "      <td>6.9</td>\n",
              "      <td>2413.0</td>\n",
              "    </tr>\n",
              "    <tr>\n",
              "      <th>2</th>\n",
              "      <td>False</td>\n",
              "      <td>{'id': 119050, 'name': 'Grumpy Old Men Collect...</td>\n",
              "      <td>0</td>\n",
              "      <td>[{'id': 10749, 'name': 'Romance'}, {'id': 35, ...</td>\n",
              "      <td>NaN</td>\n",
              "      <td>15602</td>\n",
              "      <td>tt0113228</td>\n",
              "      <td>en</td>\n",
              "      <td>Grumpier Old Men</td>\n",
              "      <td>A family wedding reignites the ancient feud be...</td>\n",
              "      <td>...</td>\n",
              "      <td>1995-12-22</td>\n",
              "      <td>0.0</td>\n",
              "      <td>101.0</td>\n",
              "      <td>[{'iso_639_1': 'en', 'name': 'English'}]</td>\n",
              "      <td>Released</td>\n",
              "      <td>Still Yelling. Still Fighting. Still Ready for...</td>\n",
              "      <td>Grumpier Old Men</td>\n",
              "      <td>False</td>\n",
              "      <td>6.5</td>\n",
              "      <td>92.0</td>\n",
              "    </tr>\n",
              "    <tr>\n",
              "      <th>3</th>\n",
              "      <td>False</td>\n",
              "      <td>NaN</td>\n",
              "      <td>16000000</td>\n",
              "      <td>[{'id': 35, 'name': 'Comedy'}, {'id': 18, 'nam...</td>\n",
              "      <td>NaN</td>\n",
              "      <td>31357</td>\n",
              "      <td>tt0114885</td>\n",
              "      <td>en</td>\n",
              "      <td>Waiting to Exhale</td>\n",
              "      <td>Cheated on, mistreated and stepped on, the wom...</td>\n",
              "      <td>...</td>\n",
              "      <td>1995-12-22</td>\n",
              "      <td>81452156.0</td>\n",
              "      <td>127.0</td>\n",
              "      <td>[{'iso_639_1': 'en', 'name': 'English'}]</td>\n",
              "      <td>Released</td>\n",
              "      <td>Friends are the people who let you be yourself...</td>\n",
              "      <td>Waiting to Exhale</td>\n",
              "      <td>False</td>\n",
              "      <td>6.1</td>\n",
              "      <td>34.0</td>\n",
              "    </tr>\n",
              "    <tr>\n",
              "      <th>4</th>\n",
              "      <td>False</td>\n",
              "      <td>{'id': 96871, 'name': 'Father of the Bride Col...</td>\n",
              "      <td>0</td>\n",
              "      <td>[{'id': 35, 'name': 'Comedy'}]</td>\n",
              "      <td>NaN</td>\n",
              "      <td>11862</td>\n",
              "      <td>tt0113041</td>\n",
              "      <td>en</td>\n",
              "      <td>Father of the Bride Part II</td>\n",
              "      <td>Just when George Banks has recovered from his ...</td>\n",
              "      <td>...</td>\n",
              "      <td>1995-02-10</td>\n",
              "      <td>76578911.0</td>\n",
              "      <td>106.0</td>\n",
              "      <td>[{'iso_639_1': 'en', 'name': 'English'}]</td>\n",
              "      <td>Released</td>\n",
              "      <td>Just When His World Is Back To Normal... He's ...</td>\n",
              "      <td>Father of the Bride Part II</td>\n",
              "      <td>False</td>\n",
              "      <td>5.7</td>\n",
              "      <td>173.0</td>\n",
              "    </tr>\n",
              "  </tbody>\n",
              "</table>\n",
              "<p>5 rows × 24 columns</p>\n",
              "</div>"
            ],
            "text/plain": [
              "   adult                              belongs_to_collection    budget  \\\n",
              "0  False  {'id': 10194, 'name': 'Toy Story Collection', ...  30000000   \n",
              "1  False                                                NaN  65000000   \n",
              "2  False  {'id': 119050, 'name': 'Grumpy Old Men Collect...         0   \n",
              "3  False                                                NaN  16000000   \n",
              "4  False  {'id': 96871, 'name': 'Father of the Bride Col...         0   \n",
              "\n",
              "                                              genres  \\\n",
              "0  [{'id': 16, 'name': 'Animation'}, {'id': 35, '...   \n",
              "1  [{'id': 12, 'name': 'Adventure'}, {'id': 14, '...   \n",
              "2  [{'id': 10749, 'name': 'Romance'}, {'id': 35, ...   \n",
              "3  [{'id': 35, 'name': 'Comedy'}, {'id': 18, 'nam...   \n",
              "4                     [{'id': 35, 'name': 'Comedy'}]   \n",
              "\n",
              "                               homepage     id    imdb_id original_language  \\\n",
              "0  http://toystory.disney.com/toy-story    862  tt0114709                en   \n",
              "1                                   NaN   8844  tt0113497                en   \n",
              "2                                   NaN  15602  tt0113228                en   \n",
              "3                                   NaN  31357  tt0114885                en   \n",
              "4                                   NaN  11862  tt0113041                en   \n",
              "\n",
              "                original_title  \\\n",
              "0                    Toy Story   \n",
              "1                      Jumanji   \n",
              "2             Grumpier Old Men   \n",
              "3            Waiting to Exhale   \n",
              "4  Father of the Bride Part II   \n",
              "\n",
              "                                            overview  ... release_date  \\\n",
              "0  Led by Woody, Andy's toys live happily in his ...  ...   1995-10-30   \n",
              "1  When siblings Judy and Peter discover an encha...  ...   1995-12-15   \n",
              "2  A family wedding reignites the ancient feud be...  ...   1995-12-22   \n",
              "3  Cheated on, mistreated and stepped on, the wom...  ...   1995-12-22   \n",
              "4  Just when George Banks has recovered from his ...  ...   1995-02-10   \n",
              "\n",
              "       revenue runtime                                   spoken_languages  \\\n",
              "0  373554033.0    81.0           [{'iso_639_1': 'en', 'name': 'English'}]   \n",
              "1  262797249.0   104.0  [{'iso_639_1': 'en', 'name': 'English'}, {'iso...   \n",
              "2          0.0   101.0           [{'iso_639_1': 'en', 'name': 'English'}]   \n",
              "3   81452156.0   127.0           [{'iso_639_1': 'en', 'name': 'English'}]   \n",
              "4   76578911.0   106.0           [{'iso_639_1': 'en', 'name': 'English'}]   \n",
              "\n",
              "     status                                            tagline  \\\n",
              "0  Released                                                NaN   \n",
              "1  Released          Roll the dice and unleash the excitement!   \n",
              "2  Released  Still Yelling. Still Fighting. Still Ready for...   \n",
              "3  Released  Friends are the people who let you be yourself...   \n",
              "4  Released  Just When His World Is Back To Normal... He's ...   \n",
              "\n",
              "                         title  video vote_average vote_count  \n",
              "0                    Toy Story  False          7.7     5415.0  \n",
              "1                      Jumanji  False          6.9     2413.0  \n",
              "2             Grumpier Old Men  False          6.5       92.0  \n",
              "3            Waiting to Exhale  False          6.1       34.0  \n",
              "4  Father of the Bride Part II  False          5.7      173.0  \n",
              "\n",
              "[5 rows x 24 columns]"
            ]
          },
          "execution_count": 6,
          "metadata": {},
          "output_type": "execute_result"
        }
      ],
      "source": [
        "movies.head()"
      ]
    },
    {
      "cell_type": "markdown",
      "source": [
        "Menampilkan 5 data teratas dari Keywords"
      ],
      "metadata": {
        "id": "YiMdU-0r-hgq"
      }
    },
    {
      "cell_type": "code",
      "execution_count": null,
      "metadata": {
        "id": "WiLHdWrxTrl4",
        "outputId": "874cbae7-6d6f-42fc-a15f-354f895abc42"
      },
      "outputs": [
        {
          "data": {
            "text/html": [
              "<div>\n",
              "<style scoped>\n",
              "    .dataframe tbody tr th:only-of-type {\n",
              "        vertical-align: middle;\n",
              "    }\n",
              "\n",
              "    .dataframe tbody tr th {\n",
              "        vertical-align: top;\n",
              "    }\n",
              "\n",
              "    .dataframe thead th {\n",
              "        text-align: right;\n",
              "    }\n",
              "</style>\n",
              "<table border=\"1\" class=\"dataframe\">\n",
              "  <thead>\n",
              "    <tr style=\"text-align: right;\">\n",
              "      <th></th>\n",
              "      <th>id</th>\n",
              "      <th>keywords</th>\n",
              "    </tr>\n",
              "  </thead>\n",
              "  <tbody>\n",
              "    <tr>\n",
              "      <th>0</th>\n",
              "      <td>862</td>\n",
              "      <td>[{'id': 931, 'name': 'jealousy'}, {'id': 4290,...</td>\n",
              "    </tr>\n",
              "    <tr>\n",
              "      <th>1</th>\n",
              "      <td>8844</td>\n",
              "      <td>[{'id': 10090, 'name': 'board game'}, {'id': 1...</td>\n",
              "    </tr>\n",
              "    <tr>\n",
              "      <th>2</th>\n",
              "      <td>15602</td>\n",
              "      <td>[{'id': 1495, 'name': 'fishing'}, {'id': 12392...</td>\n",
              "    </tr>\n",
              "    <tr>\n",
              "      <th>3</th>\n",
              "      <td>31357</td>\n",
              "      <td>[{'id': 818, 'name': 'based on novel'}, {'id':...</td>\n",
              "    </tr>\n",
              "    <tr>\n",
              "      <th>4</th>\n",
              "      <td>11862</td>\n",
              "      <td>[{'id': 1009, 'name': 'baby'}, {'id': 1599, 'n...</td>\n",
              "    </tr>\n",
              "  </tbody>\n",
              "</table>\n",
              "</div>"
            ],
            "text/plain": [
              "      id                                           keywords\n",
              "0    862  [{'id': 931, 'name': 'jealousy'}, {'id': 4290,...\n",
              "1   8844  [{'id': 10090, 'name': 'board game'}, {'id': 1...\n",
              "2  15602  [{'id': 1495, 'name': 'fishing'}, {'id': 12392...\n",
              "3  31357  [{'id': 818, 'name': 'based on novel'}, {'id':...\n",
              "4  11862  [{'id': 1009, 'name': 'baby'}, {'id': 1599, 'n..."
            ]
          },
          "execution_count": 7,
          "metadata": {},
          "output_type": "execute_result"
        }
      ],
      "source": [
        "keywords.head()"
      ]
    },
    {
      "cell_type": "markdown",
      "source": [
        "Menampilkan 5 data teratas dari Credits"
      ],
      "metadata": {
        "id": "UGm5wJHm-kjX"
      }
    },
    {
      "cell_type": "code",
      "execution_count": null,
      "metadata": {
        "id": "PJ06zCDwT2Kl",
        "outputId": "bddd4099-901f-4721-af8e-d88d387bc91d"
      },
      "outputs": [
        {
          "data": {
            "text/html": [
              "<div>\n",
              "<style scoped>\n",
              "    .dataframe tbody tr th:only-of-type {\n",
              "        vertical-align: middle;\n",
              "    }\n",
              "\n",
              "    .dataframe tbody tr th {\n",
              "        vertical-align: top;\n",
              "    }\n",
              "\n",
              "    .dataframe thead th {\n",
              "        text-align: right;\n",
              "    }\n",
              "</style>\n",
              "<table border=\"1\" class=\"dataframe\">\n",
              "  <thead>\n",
              "    <tr style=\"text-align: right;\">\n",
              "      <th></th>\n",
              "      <th>cast</th>\n",
              "      <th>crew</th>\n",
              "      <th>id</th>\n",
              "    </tr>\n",
              "  </thead>\n",
              "  <tbody>\n",
              "    <tr>\n",
              "      <th>0</th>\n",
              "      <td>[{'cast_id': 14, 'character': 'Woody (voice)',...</td>\n",
              "      <td>[{'credit_id': '52fe4284c3a36847f8024f49', 'de...</td>\n",
              "      <td>862</td>\n",
              "    </tr>\n",
              "    <tr>\n",
              "      <th>1</th>\n",
              "      <td>[{'cast_id': 1, 'character': 'Alan Parrish', '...</td>\n",
              "      <td>[{'credit_id': '52fe44bfc3a36847f80a7cd1', 'de...</td>\n",
              "      <td>8844</td>\n",
              "    </tr>\n",
              "    <tr>\n",
              "      <th>2</th>\n",
              "      <td>[{'cast_id': 2, 'character': 'Max Goldman', 'c...</td>\n",
              "      <td>[{'credit_id': '52fe466a9251416c75077a89', 'de...</td>\n",
              "      <td>15602</td>\n",
              "    </tr>\n",
              "    <tr>\n",
              "      <th>3</th>\n",
              "      <td>[{'cast_id': 1, 'character': \"Savannah 'Vannah...</td>\n",
              "      <td>[{'credit_id': '52fe44779251416c91011acb', 'de...</td>\n",
              "      <td>31357</td>\n",
              "    </tr>\n",
              "    <tr>\n",
              "      <th>4</th>\n",
              "      <td>[{'cast_id': 1, 'character': 'George Banks', '...</td>\n",
              "      <td>[{'credit_id': '52fe44959251416c75039ed7', 'de...</td>\n",
              "      <td>11862</td>\n",
              "    </tr>\n",
              "  </tbody>\n",
              "</table>\n",
              "</div>"
            ],
            "text/plain": [
              "                                                cast  \\\n",
              "0  [{'cast_id': 14, 'character': 'Woody (voice)',...   \n",
              "1  [{'cast_id': 1, 'character': 'Alan Parrish', '...   \n",
              "2  [{'cast_id': 2, 'character': 'Max Goldman', 'c...   \n",
              "3  [{'cast_id': 1, 'character': \"Savannah 'Vannah...   \n",
              "4  [{'cast_id': 1, 'character': 'George Banks', '...   \n",
              "\n",
              "                                                crew     id  \n",
              "0  [{'credit_id': '52fe4284c3a36847f8024f49', 'de...    862  \n",
              "1  [{'credit_id': '52fe44bfc3a36847f80a7cd1', 'de...   8844  \n",
              "2  [{'credit_id': '52fe466a9251416c75077a89', 'de...  15602  \n",
              "3  [{'credit_id': '52fe44779251416c91011acb', 'de...  31357  \n",
              "4  [{'credit_id': '52fe44959251416c75039ed7', 'de...  11862  "
            ]
          },
          "execution_count": 8,
          "metadata": {},
          "output_type": "execute_result"
        }
      ],
      "source": [
        "credits.head()"
      ]
    },
    {
      "cell_type": "markdown",
      "source": [
        "Menampilkan seluruh varibel yang dimiliki oleh data movie karena data utama yang akan digunakan adalah data movie"
      ],
      "metadata": {
        "id": "QLtLNs-_-pvV"
      }
    },
    {
      "cell_type": "code",
      "execution_count": null,
      "metadata": {
        "id": "K2J4Imz9UIsT",
        "outputId": "7408c763-024d-4516-9424-869efdaca8bc"
      },
      "outputs": [
        {
          "name": "stdout",
          "output_type": "stream",
          "text": [
            "<class 'pandas.core.frame.DataFrame'>\n",
            "RangeIndex: 45466 entries, 0 to 45465\n",
            "Data columns (total 24 columns):\n",
            " #   Column                 Non-Null Count  Dtype  \n",
            "---  ------                 --------------  -----  \n",
            " 0   adult                  45466 non-null  object \n",
            " 1   belongs_to_collection  4494 non-null   object \n",
            " 2   budget                 45466 non-null  object \n",
            " 3   genres                 45466 non-null  object \n",
            " 4   homepage               7782 non-null   object \n",
            " 5   id                     45466 non-null  object \n",
            " 6   imdb_id                45449 non-null  object \n",
            " 7   original_language      45455 non-null  object \n",
            " 8   original_title         45466 non-null  object \n",
            " 9   overview               44512 non-null  object \n",
            " 10  popularity             45461 non-null  object \n",
            " 11  poster_path            45080 non-null  object \n",
            " 12  production_companies   45463 non-null  object \n",
            " 13  production_countries   45463 non-null  object \n",
            " 14  release_date           45379 non-null  object \n",
            " 15  revenue                45460 non-null  float64\n",
            " 16  runtime                45203 non-null  float64\n",
            " 17  spoken_languages       45460 non-null  object \n",
            " 18  status                 45379 non-null  object \n",
            " 19  tagline                20412 non-null  object \n",
            " 20  title                  45460 non-null  object \n",
            " 21  video                  45460 non-null  object \n",
            " 22  vote_average           45460 non-null  float64\n",
            " 23  vote_count             45460 non-null  float64\n",
            "dtypes: float64(4), object(20)\n",
            "memory usage: 8.3+ MB\n"
          ]
        }
      ],
      "source": [
        "movies.info()"
      ]
    },
    {
      "cell_type": "markdown",
      "source": [
        "Menampilkan persebaran dari data movie"
      ],
      "metadata": {
        "id": "8w6QCNSK-1uv"
      }
    },
    {
      "cell_type": "code",
      "execution_count": null,
      "metadata": {
        "id": "K0xx_zblUnsz",
        "outputId": "1b299608-e948-4211-f529-cfedaa001b4b"
      },
      "outputs": [
        {
          "data": {
            "text/html": [
              "<div>\n",
              "<style scoped>\n",
              "    .dataframe tbody tr th:only-of-type {\n",
              "        vertical-align: middle;\n",
              "    }\n",
              "\n",
              "    .dataframe tbody tr th {\n",
              "        vertical-align: top;\n",
              "    }\n",
              "\n",
              "    .dataframe thead th {\n",
              "        text-align: right;\n",
              "    }\n",
              "</style>\n",
              "<table border=\"1\" class=\"dataframe\">\n",
              "  <thead>\n",
              "    <tr style=\"text-align: right;\">\n",
              "      <th></th>\n",
              "      <th>revenue</th>\n",
              "      <th>runtime</th>\n",
              "      <th>vote_average</th>\n",
              "      <th>vote_count</th>\n",
              "    </tr>\n",
              "  </thead>\n",
              "  <tbody>\n",
              "    <tr>\n",
              "      <th>count</th>\n",
              "      <td>4.546000e+04</td>\n",
              "      <td>45203.000000</td>\n",
              "      <td>45460.000000</td>\n",
              "      <td>45460.000000</td>\n",
              "    </tr>\n",
              "    <tr>\n",
              "      <th>mean</th>\n",
              "      <td>1.120935e+07</td>\n",
              "      <td>94.128199</td>\n",
              "      <td>5.618207</td>\n",
              "      <td>109.897338</td>\n",
              "    </tr>\n",
              "    <tr>\n",
              "      <th>std</th>\n",
              "      <td>6.433225e+07</td>\n",
              "      <td>38.407810</td>\n",
              "      <td>1.924216</td>\n",
              "      <td>491.310374</td>\n",
              "    </tr>\n",
              "    <tr>\n",
              "      <th>min</th>\n",
              "      <td>0.000000e+00</td>\n",
              "      <td>0.000000</td>\n",
              "      <td>0.000000</td>\n",
              "      <td>0.000000</td>\n",
              "    </tr>\n",
              "    <tr>\n",
              "      <th>25%</th>\n",
              "      <td>0.000000e+00</td>\n",
              "      <td>85.000000</td>\n",
              "      <td>5.000000</td>\n",
              "      <td>3.000000</td>\n",
              "    </tr>\n",
              "    <tr>\n",
              "      <th>50%</th>\n",
              "      <td>0.000000e+00</td>\n",
              "      <td>95.000000</td>\n",
              "      <td>6.000000</td>\n",
              "      <td>10.000000</td>\n",
              "    </tr>\n",
              "    <tr>\n",
              "      <th>75%</th>\n",
              "      <td>0.000000e+00</td>\n",
              "      <td>107.000000</td>\n",
              "      <td>6.800000</td>\n",
              "      <td>34.000000</td>\n",
              "    </tr>\n",
              "    <tr>\n",
              "      <th>max</th>\n",
              "      <td>2.787965e+09</td>\n",
              "      <td>1256.000000</td>\n",
              "      <td>10.000000</td>\n",
              "      <td>14075.000000</td>\n",
              "    </tr>\n",
              "  </tbody>\n",
              "</table>\n",
              "</div>"
            ],
            "text/plain": [
              "            revenue       runtime  vote_average    vote_count\n",
              "count  4.546000e+04  45203.000000  45460.000000  45460.000000\n",
              "mean   1.120935e+07     94.128199      5.618207    109.897338\n",
              "std    6.433225e+07     38.407810      1.924216    491.310374\n",
              "min    0.000000e+00      0.000000      0.000000      0.000000\n",
              "25%    0.000000e+00     85.000000      5.000000      3.000000\n",
              "50%    0.000000e+00     95.000000      6.000000     10.000000\n",
              "75%    0.000000e+00    107.000000      6.800000     34.000000\n",
              "max    2.787965e+09   1256.000000     10.000000  14075.000000"
            ]
          },
          "execution_count": 10,
          "metadata": {},
          "output_type": "execute_result"
        }
      ],
      "source": [
        "movies.describe()"
      ]
    },
    {
      "cell_type": "markdown",
      "source": [
        "Mengambil data movie yang memiliki total voting lebih besar dari 110"
      ],
      "metadata": {
        "id": "gXiDcft1_ABq"
      }
    },
    {
      "cell_type": "code",
      "execution_count": null,
      "metadata": {
        "id": "CGTy5s8CU2Bn"
      },
      "outputs": [],
      "source": [
        "movies_md = movies[movies['vote_count'] >= 110]"
      ]
    },
    {
      "cell_type": "code",
      "execution_count": null,
      "metadata": {
        "id": "mtwMKVkVVBec",
        "outputId": "6e599a1c-89f6-4fa8-a201-f08c6d1963bd"
      },
      "outputs": [
        {
          "data": {
            "text/html": [
              "<div>\n",
              "<style scoped>\n",
              "    .dataframe tbody tr th:only-of-type {\n",
              "        vertical-align: middle;\n",
              "    }\n",
              "\n",
              "    .dataframe tbody tr th {\n",
              "        vertical-align: top;\n",
              "    }\n",
              "\n",
              "    .dataframe thead th {\n",
              "        text-align: right;\n",
              "    }\n",
              "</style>\n",
              "<table border=\"1\" class=\"dataframe\">\n",
              "  <thead>\n",
              "    <tr style=\"text-align: right;\">\n",
              "      <th></th>\n",
              "      <th>adult</th>\n",
              "      <th>belongs_to_collection</th>\n",
              "      <th>budget</th>\n",
              "      <th>genres</th>\n",
              "      <th>homepage</th>\n",
              "      <th>id</th>\n",
              "      <th>imdb_id</th>\n",
              "      <th>original_language</th>\n",
              "      <th>original_title</th>\n",
              "      <th>overview</th>\n",
              "      <th>...</th>\n",
              "      <th>release_date</th>\n",
              "      <th>revenue</th>\n",
              "      <th>runtime</th>\n",
              "      <th>spoken_languages</th>\n",
              "      <th>status</th>\n",
              "      <th>tagline</th>\n",
              "      <th>title</th>\n",
              "      <th>video</th>\n",
              "      <th>vote_average</th>\n",
              "      <th>vote_count</th>\n",
              "    </tr>\n",
              "  </thead>\n",
              "  <tbody>\n",
              "    <tr>\n",
              "      <th>0</th>\n",
              "      <td>False</td>\n",
              "      <td>{'id': 10194, 'name': 'Toy Story Collection', ...</td>\n",
              "      <td>30000000</td>\n",
              "      <td>[{'id': 16, 'name': 'Animation'}, {'id': 35, '...</td>\n",
              "      <td>http://toystory.disney.com/toy-story</td>\n",
              "      <td>862</td>\n",
              "      <td>tt0114709</td>\n",
              "      <td>en</td>\n",
              "      <td>Toy Story</td>\n",
              "      <td>Led by Woody, Andy's toys live happily in his ...</td>\n",
              "      <td>...</td>\n",
              "      <td>1995-10-30</td>\n",
              "      <td>373554033.0</td>\n",
              "      <td>81.0</td>\n",
              "      <td>[{'iso_639_1': 'en', 'name': 'English'}]</td>\n",
              "      <td>Released</td>\n",
              "      <td>NaN</td>\n",
              "      <td>Toy Story</td>\n",
              "      <td>False</td>\n",
              "      <td>7.7</td>\n",
              "      <td>5415.0</td>\n",
              "    </tr>\n",
              "    <tr>\n",
              "      <th>1</th>\n",
              "      <td>False</td>\n",
              "      <td>NaN</td>\n",
              "      <td>65000000</td>\n",
              "      <td>[{'id': 12, 'name': 'Adventure'}, {'id': 14, '...</td>\n",
              "      <td>NaN</td>\n",
              "      <td>8844</td>\n",
              "      <td>tt0113497</td>\n",
              "      <td>en</td>\n",
              "      <td>Jumanji</td>\n",
              "      <td>When siblings Judy and Peter discover an encha...</td>\n",
              "      <td>...</td>\n",
              "      <td>1995-12-15</td>\n",
              "      <td>262797249.0</td>\n",
              "      <td>104.0</td>\n",
              "      <td>[{'iso_639_1': 'en', 'name': 'English'}, {'iso...</td>\n",
              "      <td>Released</td>\n",
              "      <td>Roll the dice and unleash the excitement!</td>\n",
              "      <td>Jumanji</td>\n",
              "      <td>False</td>\n",
              "      <td>6.9</td>\n",
              "      <td>2413.0</td>\n",
              "    </tr>\n",
              "    <tr>\n",
              "      <th>4</th>\n",
              "      <td>False</td>\n",
              "      <td>{'id': 96871, 'name': 'Father of the Bride Col...</td>\n",
              "      <td>0</td>\n",
              "      <td>[{'id': 35, 'name': 'Comedy'}]</td>\n",
              "      <td>NaN</td>\n",
              "      <td>11862</td>\n",
              "      <td>tt0113041</td>\n",
              "      <td>en</td>\n",
              "      <td>Father of the Bride Part II</td>\n",
              "      <td>Just when George Banks has recovered from his ...</td>\n",
              "      <td>...</td>\n",
              "      <td>1995-02-10</td>\n",
              "      <td>76578911.0</td>\n",
              "      <td>106.0</td>\n",
              "      <td>[{'iso_639_1': 'en', 'name': 'English'}]</td>\n",
              "      <td>Released</td>\n",
              "      <td>Just When His World Is Back To Normal... He's ...</td>\n",
              "      <td>Father of the Bride Part II</td>\n",
              "      <td>False</td>\n",
              "      <td>5.7</td>\n",
              "      <td>173.0</td>\n",
              "    </tr>\n",
              "    <tr>\n",
              "      <th>5</th>\n",
              "      <td>False</td>\n",
              "      <td>NaN</td>\n",
              "      <td>60000000</td>\n",
              "      <td>[{'id': 28, 'name': 'Action'}, {'id': 80, 'nam...</td>\n",
              "      <td>NaN</td>\n",
              "      <td>949</td>\n",
              "      <td>tt0113277</td>\n",
              "      <td>en</td>\n",
              "      <td>Heat</td>\n",
              "      <td>Obsessive master thief, Neil McCauley leads a ...</td>\n",
              "      <td>...</td>\n",
              "      <td>1995-12-15</td>\n",
              "      <td>187436818.0</td>\n",
              "      <td>170.0</td>\n",
              "      <td>[{'iso_639_1': 'en', 'name': 'English'}, {'iso...</td>\n",
              "      <td>Released</td>\n",
              "      <td>A Los Angeles Crime Saga</td>\n",
              "      <td>Heat</td>\n",
              "      <td>False</td>\n",
              "      <td>7.7</td>\n",
              "      <td>1886.0</td>\n",
              "    </tr>\n",
              "    <tr>\n",
              "      <th>6</th>\n",
              "      <td>False</td>\n",
              "      <td>NaN</td>\n",
              "      <td>58000000</td>\n",
              "      <td>[{'id': 35, 'name': 'Comedy'}, {'id': 10749, '...</td>\n",
              "      <td>NaN</td>\n",
              "      <td>11860</td>\n",
              "      <td>tt0114319</td>\n",
              "      <td>en</td>\n",
              "      <td>Sabrina</td>\n",
              "      <td>An ugly duckling having undergone a remarkable...</td>\n",
              "      <td>...</td>\n",
              "      <td>1995-12-15</td>\n",
              "      <td>0.0</td>\n",
              "      <td>127.0</td>\n",
              "      <td>[{'iso_639_1': 'fr', 'name': 'Français'}, {'is...</td>\n",
              "      <td>Released</td>\n",
              "      <td>You are cordially invited to the most surprisi...</td>\n",
              "      <td>Sabrina</td>\n",
              "      <td>False</td>\n",
              "      <td>6.2</td>\n",
              "      <td>141.0</td>\n",
              "    </tr>\n",
              "  </tbody>\n",
              "</table>\n",
              "<p>5 rows × 24 columns</p>\n",
              "</div>"
            ],
            "text/plain": [
              "   adult                              belongs_to_collection    budget  \\\n",
              "0  False  {'id': 10194, 'name': 'Toy Story Collection', ...  30000000   \n",
              "1  False                                                NaN  65000000   \n",
              "4  False  {'id': 96871, 'name': 'Father of the Bride Col...         0   \n",
              "5  False                                                NaN  60000000   \n",
              "6  False                                                NaN  58000000   \n",
              "\n",
              "                                              genres  \\\n",
              "0  [{'id': 16, 'name': 'Animation'}, {'id': 35, '...   \n",
              "1  [{'id': 12, 'name': 'Adventure'}, {'id': 14, '...   \n",
              "4                     [{'id': 35, 'name': 'Comedy'}]   \n",
              "5  [{'id': 28, 'name': 'Action'}, {'id': 80, 'nam...   \n",
              "6  [{'id': 35, 'name': 'Comedy'}, {'id': 10749, '...   \n",
              "\n",
              "                               homepage     id    imdb_id original_language  \\\n",
              "0  http://toystory.disney.com/toy-story    862  tt0114709                en   \n",
              "1                                   NaN   8844  tt0113497                en   \n",
              "4                                   NaN  11862  tt0113041                en   \n",
              "5                                   NaN    949  tt0113277                en   \n",
              "6                                   NaN  11860  tt0114319                en   \n",
              "\n",
              "                original_title  \\\n",
              "0                    Toy Story   \n",
              "1                      Jumanji   \n",
              "4  Father of the Bride Part II   \n",
              "5                         Heat   \n",
              "6                      Sabrina   \n",
              "\n",
              "                                            overview  ... release_date  \\\n",
              "0  Led by Woody, Andy's toys live happily in his ...  ...   1995-10-30   \n",
              "1  When siblings Judy and Peter discover an encha...  ...   1995-12-15   \n",
              "4  Just when George Banks has recovered from his ...  ...   1995-02-10   \n",
              "5  Obsessive master thief, Neil McCauley leads a ...  ...   1995-12-15   \n",
              "6  An ugly duckling having undergone a remarkable...  ...   1995-12-15   \n",
              "\n",
              "       revenue runtime                                   spoken_languages  \\\n",
              "0  373554033.0    81.0           [{'iso_639_1': 'en', 'name': 'English'}]   \n",
              "1  262797249.0   104.0  [{'iso_639_1': 'en', 'name': 'English'}, {'iso...   \n",
              "4   76578911.0   106.0           [{'iso_639_1': 'en', 'name': 'English'}]   \n",
              "5  187436818.0   170.0  [{'iso_639_1': 'en', 'name': 'English'}, {'iso...   \n",
              "6          0.0   127.0  [{'iso_639_1': 'fr', 'name': 'Français'}, {'is...   \n",
              "\n",
              "     status                                            tagline  \\\n",
              "0  Released                                                NaN   \n",
              "1  Released          Roll the dice and unleash the excitement!   \n",
              "4  Released  Just When His World Is Back To Normal... He's ...   \n",
              "5  Released                           A Los Angeles Crime Saga   \n",
              "6  Released  You are cordially invited to the most surprisi...   \n",
              "\n",
              "                         title  video vote_average vote_count  \n",
              "0                    Toy Story  False          7.7     5415.0  \n",
              "1                      Jumanji  False          6.9     2413.0  \n",
              "4  Father of the Bride Part II  False          5.7      173.0  \n",
              "5                         Heat  False          7.7     1886.0  \n",
              "6                      Sabrina  False          6.2      141.0  \n",
              "\n",
              "[5 rows x 24 columns]"
            ]
          },
          "execution_count": 12,
          "metadata": {},
          "output_type": "execute_result"
        }
      ],
      "source": [
        "movies_md.head()"
      ]
    },
    {
      "cell_type": "code",
      "execution_count": null,
      "metadata": {
        "id": "ELMdurCNV9Bf",
        "outputId": "cc7a257a-94ab-43b4-8bba-cb73a6d5bea8"
      },
      "outputs": [
        {
          "data": {
            "text/plain": [
              "Index(['adult', 'belongs_to_collection', 'budget', 'genres', 'homepage', 'id',\n",
              "       'imdb_id', 'original_language', 'original_title', 'overview',\n",
              "       'popularity', 'poster_path', 'production_companies',\n",
              "       'production_countries', 'release_date', 'revenue', 'runtime',\n",
              "       'spoken_languages', 'status', 'tagline', 'title', 'video',\n",
              "       'vote_average', 'vote_count'],\n",
              "      dtype='object')"
            ]
          },
          "execution_count": 13,
          "metadata": {},
          "output_type": "execute_result"
        }
      ],
      "source": [
        "movies_md.columns"
      ]
    },
    {
      "cell_type": "markdown",
      "source": [
        "# Data Preparation"
      ],
      "metadata": {
        "id": "MAXDLarW_lBG"
      }
    },
    {
      "cell_type": "markdown",
      "source": [
        "Hanya mengambil beberapa variabel dari data movie"
      ],
      "metadata": {
        "id": "YPouqm7u_L0z"
      }
    },
    {
      "cell_type": "code",
      "execution_count": null,
      "metadata": {
        "id": "phoDb2_OWDSK"
      },
      "outputs": [],
      "source": [
        "movies_md = movies_md[['id', 'original_title', 'overview', 'genres', 'release_date', 'runtime']]"
      ]
    },
    {
      "cell_type": "code",
      "execution_count": null,
      "metadata": {
        "id": "gVCP4lXWbAOs",
        "outputId": "b4ff2651-6e43-40ff-9fe1-557c1ffdb78a"
      },
      "outputs": [
        {
          "data": {
            "text/html": [
              "<div>\n",
              "<style scoped>\n",
              "    .dataframe tbody tr th:only-of-type {\n",
              "        vertical-align: middle;\n",
              "    }\n",
              "\n",
              "    .dataframe tbody tr th {\n",
              "        vertical-align: top;\n",
              "    }\n",
              "\n",
              "    .dataframe thead th {\n",
              "        text-align: right;\n",
              "    }\n",
              "</style>\n",
              "<table border=\"1\" class=\"dataframe\">\n",
              "  <thead>\n",
              "    <tr style=\"text-align: right;\">\n",
              "      <th></th>\n",
              "      <th>id</th>\n",
              "      <th>original_title</th>\n",
              "      <th>overview</th>\n",
              "      <th>genres</th>\n",
              "      <th>release_date</th>\n",
              "      <th>runtime</th>\n",
              "    </tr>\n",
              "  </thead>\n",
              "  <tbody>\n",
              "    <tr>\n",
              "      <th>0</th>\n",
              "      <td>862</td>\n",
              "      <td>Toy Story</td>\n",
              "      <td>Led by Woody, Andy's toys live happily in his ...</td>\n",
              "      <td>[{'id': 16, 'name': 'Animation'}, {'id': 35, '...</td>\n",
              "      <td>1995-10-30</td>\n",
              "      <td>81.0</td>\n",
              "    </tr>\n",
              "    <tr>\n",
              "      <th>1</th>\n",
              "      <td>8844</td>\n",
              "      <td>Jumanji</td>\n",
              "      <td>When siblings Judy and Peter discover an encha...</td>\n",
              "      <td>[{'id': 12, 'name': 'Adventure'}, {'id': 14, '...</td>\n",
              "      <td>1995-12-15</td>\n",
              "      <td>104.0</td>\n",
              "    </tr>\n",
              "    <tr>\n",
              "      <th>4</th>\n",
              "      <td>11862</td>\n",
              "      <td>Father of the Bride Part II</td>\n",
              "      <td>Just when George Banks has recovered from his ...</td>\n",
              "      <td>[{'id': 35, 'name': 'Comedy'}]</td>\n",
              "      <td>1995-02-10</td>\n",
              "      <td>106.0</td>\n",
              "    </tr>\n",
              "    <tr>\n",
              "      <th>5</th>\n",
              "      <td>949</td>\n",
              "      <td>Heat</td>\n",
              "      <td>Obsessive master thief, Neil McCauley leads a ...</td>\n",
              "      <td>[{'id': 28, 'name': 'Action'}, {'id': 80, 'nam...</td>\n",
              "      <td>1995-12-15</td>\n",
              "      <td>170.0</td>\n",
              "    </tr>\n",
              "    <tr>\n",
              "      <th>6</th>\n",
              "      <td>11860</td>\n",
              "      <td>Sabrina</td>\n",
              "      <td>An ugly duckling having undergone a remarkable...</td>\n",
              "      <td>[{'id': 35, 'name': 'Comedy'}, {'id': 10749, '...</td>\n",
              "      <td>1995-12-15</td>\n",
              "      <td>127.0</td>\n",
              "    </tr>\n",
              "  </tbody>\n",
              "</table>\n",
              "</div>"
            ],
            "text/plain": [
              "      id               original_title  \\\n",
              "0    862                    Toy Story   \n",
              "1   8844                      Jumanji   \n",
              "4  11862  Father of the Bride Part II   \n",
              "5    949                         Heat   \n",
              "6  11860                      Sabrina   \n",
              "\n",
              "                                            overview  \\\n",
              "0  Led by Woody, Andy's toys live happily in his ...   \n",
              "1  When siblings Judy and Peter discover an encha...   \n",
              "4  Just when George Banks has recovered from his ...   \n",
              "5  Obsessive master thief, Neil McCauley leads a ...   \n",
              "6  An ugly duckling having undergone a remarkable...   \n",
              "\n",
              "                                              genres release_date  runtime  \n",
              "0  [{'id': 16, 'name': 'Animation'}, {'id': 35, '...   1995-10-30     81.0  \n",
              "1  [{'id': 12, 'name': 'Adventure'}, {'id': 14, '...   1995-12-15    104.0  \n",
              "4                     [{'id': 35, 'name': 'Comedy'}]   1995-02-10    106.0  \n",
              "5  [{'id': 28, 'name': 'Action'}, {'id': 80, 'nam...   1995-12-15    170.0  \n",
              "6  [{'id': 35, 'name': 'Comedy'}, {'id': 10749, '...   1995-12-15    127.0  "
            ]
          },
          "execution_count": 15,
          "metadata": {},
          "output_type": "execute_result"
        }
      ],
      "source": [
        "movies_md.head()"
      ]
    },
    {
      "cell_type": "code",
      "execution_count": null,
      "metadata": {
        "id": "pr_KxnCJbnds"
      },
      "outputs": [],
      "source": [
        "movies_md.reset_index(inplace=True, drop=True)"
      ]
    },
    {
      "cell_type": "code",
      "execution_count": null,
      "metadata": {
        "id": "zJla9-0SbpJV",
        "outputId": "c1ab5c2a-1d1e-4e93-b63b-8e51e8eb1261"
      },
      "outputs": [
        {
          "data": {
            "text/html": [
              "<div>\n",
              "<style scoped>\n",
              "    .dataframe tbody tr th:only-of-type {\n",
              "        vertical-align: middle;\n",
              "    }\n",
              "\n",
              "    .dataframe tbody tr th {\n",
              "        vertical-align: top;\n",
              "    }\n",
              "\n",
              "    .dataframe thead th {\n",
              "        text-align: right;\n",
              "    }\n",
              "</style>\n",
              "<table border=\"1\" class=\"dataframe\">\n",
              "  <thead>\n",
              "    <tr style=\"text-align: right;\">\n",
              "      <th></th>\n",
              "      <th>id</th>\n",
              "      <th>original_title</th>\n",
              "      <th>overview</th>\n",
              "      <th>genres</th>\n",
              "      <th>release_date</th>\n",
              "      <th>runtime</th>\n",
              "    </tr>\n",
              "  </thead>\n",
              "  <tbody>\n",
              "    <tr>\n",
              "      <th>0</th>\n",
              "      <td>862</td>\n",
              "      <td>Toy Story</td>\n",
              "      <td>Led by Woody, Andy's toys live happily in his ...</td>\n",
              "      <td>[{'id': 16, 'name': 'Animation'}, {'id': 35, '...</td>\n",
              "      <td>1995-10-30</td>\n",
              "      <td>81.0</td>\n",
              "    </tr>\n",
              "    <tr>\n",
              "      <th>1</th>\n",
              "      <td>8844</td>\n",
              "      <td>Jumanji</td>\n",
              "      <td>When siblings Judy and Peter discover an encha...</td>\n",
              "      <td>[{'id': 12, 'name': 'Adventure'}, {'id': 14, '...</td>\n",
              "      <td>1995-12-15</td>\n",
              "      <td>104.0</td>\n",
              "    </tr>\n",
              "    <tr>\n",
              "      <th>2</th>\n",
              "      <td>11862</td>\n",
              "      <td>Father of the Bride Part II</td>\n",
              "      <td>Just when George Banks has recovered from his ...</td>\n",
              "      <td>[{'id': 35, 'name': 'Comedy'}]</td>\n",
              "      <td>1995-02-10</td>\n",
              "      <td>106.0</td>\n",
              "    </tr>\n",
              "    <tr>\n",
              "      <th>3</th>\n",
              "      <td>949</td>\n",
              "      <td>Heat</td>\n",
              "      <td>Obsessive master thief, Neil McCauley leads a ...</td>\n",
              "      <td>[{'id': 28, 'name': 'Action'}, {'id': 80, 'nam...</td>\n",
              "      <td>1995-12-15</td>\n",
              "      <td>170.0</td>\n",
              "    </tr>\n",
              "    <tr>\n",
              "      <th>4</th>\n",
              "      <td>11860</td>\n",
              "      <td>Sabrina</td>\n",
              "      <td>An ugly duckling having undergone a remarkable...</td>\n",
              "      <td>[{'id': 35, 'name': 'Comedy'}, {'id': 10749, '...</td>\n",
              "      <td>1995-12-15</td>\n",
              "      <td>127.0</td>\n",
              "    </tr>\n",
              "  </tbody>\n",
              "</table>\n",
              "</div>"
            ],
            "text/plain": [
              "      id               original_title  \\\n",
              "0    862                    Toy Story   \n",
              "1   8844                      Jumanji   \n",
              "2  11862  Father of the Bride Part II   \n",
              "3    949                         Heat   \n",
              "4  11860                      Sabrina   \n",
              "\n",
              "                                            overview  \\\n",
              "0  Led by Woody, Andy's toys live happily in his ...   \n",
              "1  When siblings Judy and Peter discover an encha...   \n",
              "2  Just when George Banks has recovered from his ...   \n",
              "3  Obsessive master thief, Neil McCauley leads a ...   \n",
              "4  An ugly duckling having undergone a remarkable...   \n",
              "\n",
              "                                              genres release_date  runtime  \n",
              "0  [{'id': 16, 'name': 'Animation'}, {'id': 35, '...   1995-10-30     81.0  \n",
              "1  [{'id': 12, 'name': 'Adventure'}, {'id': 14, '...   1995-12-15    104.0  \n",
              "2                     [{'id': 35, 'name': 'Comedy'}]   1995-02-10    106.0  \n",
              "3  [{'id': 28, 'name': 'Action'}, {'id': 80, 'nam...   1995-12-15    170.0  \n",
              "4  [{'id': 35, 'name': 'Comedy'}, {'id': 10749, '...   1995-12-15    127.0  "
            ]
          },
          "execution_count": 17,
          "metadata": {},
          "output_type": "execute_result"
        }
      ],
      "source": [
        "movies_md.head()"
      ]
    },
    {
      "cell_type": "markdown",
      "source": [
        "Hanya mengambil varial id dan cast dari dataset credits"
      ],
      "metadata": {
        "id": "20jUPunt_rTb"
      }
    },
    {
      "cell_type": "code",
      "execution_count": null,
      "metadata": {
        "id": "cDHxW-4Xb7Pv"
      },
      "outputs": [],
      "source": [
        "movies_credits = credits[['id', 'cast']]"
      ]
    },
    {
      "cell_type": "code",
      "execution_count": null,
      "metadata": {
        "id": "uOq0n7Ocb_d4",
        "outputId": "24def721-1943-4a6a-9b87-344368ee175a"
      },
      "outputs": [
        {
          "data": {
            "text/html": [
              "<div>\n",
              "<style scoped>\n",
              "    .dataframe tbody tr th:only-of-type {\n",
              "        vertical-align: middle;\n",
              "    }\n",
              "\n",
              "    .dataframe tbody tr th {\n",
              "        vertical-align: top;\n",
              "    }\n",
              "\n",
              "    .dataframe thead th {\n",
              "        text-align: right;\n",
              "    }\n",
              "</style>\n",
              "<table border=\"1\" class=\"dataframe\">\n",
              "  <thead>\n",
              "    <tr style=\"text-align: right;\">\n",
              "      <th></th>\n",
              "      <th>id</th>\n",
              "      <th>cast</th>\n",
              "    </tr>\n",
              "  </thead>\n",
              "  <tbody>\n",
              "    <tr>\n",
              "      <th>0</th>\n",
              "      <td>862</td>\n",
              "      <td>[{'cast_id': 14, 'character': 'Woody (voice)',...</td>\n",
              "    </tr>\n",
              "    <tr>\n",
              "      <th>1</th>\n",
              "      <td>8844</td>\n",
              "      <td>[{'cast_id': 1, 'character': 'Alan Parrish', '...</td>\n",
              "    </tr>\n",
              "    <tr>\n",
              "      <th>2</th>\n",
              "      <td>15602</td>\n",
              "      <td>[{'cast_id': 2, 'character': 'Max Goldman', 'c...</td>\n",
              "    </tr>\n",
              "    <tr>\n",
              "      <th>3</th>\n",
              "      <td>31357</td>\n",
              "      <td>[{'cast_id': 1, 'character': \"Savannah 'Vannah...</td>\n",
              "    </tr>\n",
              "    <tr>\n",
              "      <th>4</th>\n",
              "      <td>11862</td>\n",
              "      <td>[{'cast_id': 1, 'character': 'George Banks', '...</td>\n",
              "    </tr>\n",
              "  </tbody>\n",
              "</table>\n",
              "</div>"
            ],
            "text/plain": [
              "      id                                               cast\n",
              "0    862  [{'cast_id': 14, 'character': 'Woody (voice)',...\n",
              "1   8844  [{'cast_id': 1, 'character': 'Alan Parrish', '...\n",
              "2  15602  [{'cast_id': 2, 'character': 'Max Goldman', 'c...\n",
              "3  31357  [{'cast_id': 1, 'character': \"Savannah 'Vannah...\n",
              "4  11862  [{'cast_id': 1, 'character': 'George Banks', '..."
            ]
          },
          "execution_count": 19,
          "metadata": {},
          "output_type": "execute_result"
        }
      ],
      "source": [
        "movies_credits.head()"
      ]
    },
    {
      "cell_type": "markdown",
      "source": [
        "Hanya mengambil varibael movieId dan rating dari dataset rating"
      ],
      "metadata": {
        "id": "XysRQePp_y8r"
      }
    },
    {
      "cell_type": "code",
      "execution_count": null,
      "metadata": {
        "id": "6yJ2KnVeciBy"
      },
      "outputs": [],
      "source": [
        "movies_rating = rating[['movieId', 'rating']]\n",
        "movies_rating.columns = ['id', 'rating']"
      ]
    },
    {
      "cell_type": "code",
      "execution_count": null,
      "metadata": {
        "id": "Kzi6W--Ac0t9",
        "outputId": "e68a28cf-a410-48e0-b015-148ef1598ac5"
      },
      "outputs": [
        {
          "data": {
            "text/html": [
              "<div>\n",
              "<style scoped>\n",
              "    .dataframe tbody tr th:only-of-type {\n",
              "        vertical-align: middle;\n",
              "    }\n",
              "\n",
              "    .dataframe tbody tr th {\n",
              "        vertical-align: top;\n",
              "    }\n",
              "\n",
              "    .dataframe thead th {\n",
              "        text-align: right;\n",
              "    }\n",
              "</style>\n",
              "<table border=\"1\" class=\"dataframe\">\n",
              "  <thead>\n",
              "    <tr style=\"text-align: right;\">\n",
              "      <th></th>\n",
              "      <th>id</th>\n",
              "      <th>rating</th>\n",
              "    </tr>\n",
              "  </thead>\n",
              "  <tbody>\n",
              "    <tr>\n",
              "      <th>0</th>\n",
              "      <td>110</td>\n",
              "      <td>1.0</td>\n",
              "    </tr>\n",
              "    <tr>\n",
              "      <th>1</th>\n",
              "      <td>147</td>\n",
              "      <td>4.5</td>\n",
              "    </tr>\n",
              "    <tr>\n",
              "      <th>2</th>\n",
              "      <td>858</td>\n",
              "      <td>5.0</td>\n",
              "    </tr>\n",
              "    <tr>\n",
              "      <th>3</th>\n",
              "      <td>1221</td>\n",
              "      <td>5.0</td>\n",
              "    </tr>\n",
              "    <tr>\n",
              "      <th>4</th>\n",
              "      <td>1246</td>\n",
              "      <td>5.0</td>\n",
              "    </tr>\n",
              "  </tbody>\n",
              "</table>\n",
              "</div>"
            ],
            "text/plain": [
              "     id  rating\n",
              "0   110     1.0\n",
              "1   147     4.5\n",
              "2   858     5.0\n",
              "3  1221     5.0\n",
              "4  1246     5.0"
            ]
          },
          "execution_count": 21,
          "metadata": {},
          "output_type": "execute_result"
        }
      ],
      "source": [
        "movies_rating.head()"
      ]
    },
    {
      "cell_type": "code",
      "execution_count": null,
      "metadata": {
        "id": "gtxon_KXdHdi"
      },
      "outputs": [],
      "source": [
        "movies_md['id'] = movies_md['id'].astype(int)"
      ]
    },
    {
      "cell_type": "markdown",
      "source": [
        "Melakukan penggabungan datset antara data movie dan data keyword"
      ],
      "metadata": {
        "id": "LU-RB9Tj_7-0"
      }
    },
    {
      "cell_type": "code",
      "execution_count": null,
      "metadata": {
        "id": "ua8IO9d9dLZ1"
      },
      "outputs": [],
      "source": [
        "movies_df = pd.merge(movies_md, keywords, on='id', how='left')"
      ]
    },
    {
      "cell_type": "code",
      "execution_count": null,
      "metadata": {
        "id": "AzWdq10VdS1u",
        "outputId": "bad9c723-7ed2-4fcf-f5a3-fecf29027484"
      },
      "outputs": [
        {
          "data": {
            "text/html": [
              "<div>\n",
              "<style scoped>\n",
              "    .dataframe tbody tr th:only-of-type {\n",
              "        vertical-align: middle;\n",
              "    }\n",
              "\n",
              "    .dataframe tbody tr th {\n",
              "        vertical-align: top;\n",
              "    }\n",
              "\n",
              "    .dataframe thead th {\n",
              "        text-align: right;\n",
              "    }\n",
              "</style>\n",
              "<table border=\"1\" class=\"dataframe\">\n",
              "  <thead>\n",
              "    <tr style=\"text-align: right;\">\n",
              "      <th></th>\n",
              "      <th>id</th>\n",
              "      <th>original_title</th>\n",
              "      <th>overview</th>\n",
              "      <th>genres</th>\n",
              "      <th>release_date</th>\n",
              "      <th>runtime</th>\n",
              "      <th>keywords</th>\n",
              "    </tr>\n",
              "  </thead>\n",
              "  <tbody>\n",
              "    <tr>\n",
              "      <th>0</th>\n",
              "      <td>862</td>\n",
              "      <td>Toy Story</td>\n",
              "      <td>Led by Woody, Andy's toys live happily in his ...</td>\n",
              "      <td>[{'id': 16, 'name': 'Animation'}, {'id': 35, '...</td>\n",
              "      <td>1995-10-30</td>\n",
              "      <td>81.0</td>\n",
              "      <td>[{'id': 931, 'name': 'jealousy'}, {'id': 4290,...</td>\n",
              "    </tr>\n",
              "    <tr>\n",
              "      <th>1</th>\n",
              "      <td>8844</td>\n",
              "      <td>Jumanji</td>\n",
              "      <td>When siblings Judy and Peter discover an encha...</td>\n",
              "      <td>[{'id': 12, 'name': 'Adventure'}, {'id': 14, '...</td>\n",
              "      <td>1995-12-15</td>\n",
              "      <td>104.0</td>\n",
              "      <td>[{'id': 10090, 'name': 'board game'}, {'id': 1...</td>\n",
              "    </tr>\n",
              "    <tr>\n",
              "      <th>2</th>\n",
              "      <td>11862</td>\n",
              "      <td>Father of the Bride Part II</td>\n",
              "      <td>Just when George Banks has recovered from his ...</td>\n",
              "      <td>[{'id': 35, 'name': 'Comedy'}]</td>\n",
              "      <td>1995-02-10</td>\n",
              "      <td>106.0</td>\n",
              "      <td>[{'id': 1009, 'name': 'baby'}, {'id': 1599, 'n...</td>\n",
              "    </tr>\n",
              "    <tr>\n",
              "      <th>3</th>\n",
              "      <td>949</td>\n",
              "      <td>Heat</td>\n",
              "      <td>Obsessive master thief, Neil McCauley leads a ...</td>\n",
              "      <td>[{'id': 28, 'name': 'Action'}, {'id': 80, 'nam...</td>\n",
              "      <td>1995-12-15</td>\n",
              "      <td>170.0</td>\n",
              "      <td>[{'id': 642, 'name': 'robbery'}, {'id': 703, '...</td>\n",
              "    </tr>\n",
              "    <tr>\n",
              "      <th>4</th>\n",
              "      <td>11860</td>\n",
              "      <td>Sabrina</td>\n",
              "      <td>An ugly duckling having undergone a remarkable...</td>\n",
              "      <td>[{'id': 35, 'name': 'Comedy'}, {'id': 10749, '...</td>\n",
              "      <td>1995-12-15</td>\n",
              "      <td>127.0</td>\n",
              "      <td>[{'id': 90, 'name': 'paris'}, {'id': 380, 'nam...</td>\n",
              "    </tr>\n",
              "  </tbody>\n",
              "</table>\n",
              "</div>"
            ],
            "text/plain": [
              "      id               original_title  \\\n",
              "0    862                    Toy Story   \n",
              "1   8844                      Jumanji   \n",
              "2  11862  Father of the Bride Part II   \n",
              "3    949                         Heat   \n",
              "4  11860                      Sabrina   \n",
              "\n",
              "                                            overview  \\\n",
              "0  Led by Woody, Andy's toys live happily in his ...   \n",
              "1  When siblings Judy and Peter discover an encha...   \n",
              "2  Just when George Banks has recovered from his ...   \n",
              "3  Obsessive master thief, Neil McCauley leads a ...   \n",
              "4  An ugly duckling having undergone a remarkable...   \n",
              "\n",
              "                                              genres release_date  runtime  \\\n",
              "0  [{'id': 16, 'name': 'Animation'}, {'id': 35, '...   1995-10-30     81.0   \n",
              "1  [{'id': 12, 'name': 'Adventure'}, {'id': 14, '...   1995-12-15    104.0   \n",
              "2                     [{'id': 35, 'name': 'Comedy'}]   1995-02-10    106.0   \n",
              "3  [{'id': 28, 'name': 'Action'}, {'id': 80, 'nam...   1995-12-15    170.0   \n",
              "4  [{'id': 35, 'name': 'Comedy'}, {'id': 10749, '...   1995-12-15    127.0   \n",
              "\n",
              "                                            keywords  \n",
              "0  [{'id': 931, 'name': 'jealousy'}, {'id': 4290,...  \n",
              "1  [{'id': 10090, 'name': 'board game'}, {'id': 1...  \n",
              "2  [{'id': 1009, 'name': 'baby'}, {'id': 1599, 'n...  \n",
              "3  [{'id': 642, 'name': 'robbery'}, {'id': 703, '...  \n",
              "4  [{'id': 90, 'name': 'paris'}, {'id': 380, 'nam...  "
            ]
          },
          "execution_count": 24,
          "metadata": {},
          "output_type": "execute_result"
        }
      ],
      "source": [
        "movies_df.head()"
      ]
    },
    {
      "cell_type": "code",
      "execution_count": null,
      "metadata": {
        "id": "RajLBQX5dZ8d"
      },
      "outputs": [],
      "source": [
        "movies_df.reset_index(inplace=True, drop=True)"
      ]
    },
    {
      "cell_type": "markdown",
      "source": [
        "Melakukan penggabungan datset antara data movie dan data rating"
      ],
      "metadata": {
        "id": "yMc7NG3LAF5f"
      }
    },
    {
      "cell_type": "code",
      "execution_count": null,
      "metadata": {
        "id": "cVawK4x-dkWz"
      },
      "outputs": [],
      "source": [
        "movies_df = pd.merge(movies_df, movies_credits, on='id', how='left')\n",
        "movies_df.reset_index(inplace=True, drop=True)"
      ]
    },
    {
      "cell_type": "code",
      "execution_count": null,
      "metadata": {
        "id": "QD1AsnkgduMB",
        "outputId": "cbcf2f65-5137-4133-cdb5-ef3b464e7a53"
      },
      "outputs": [
        {
          "data": {
            "text/html": [
              "<div>\n",
              "<style scoped>\n",
              "    .dataframe tbody tr th:only-of-type {\n",
              "        vertical-align: middle;\n",
              "    }\n",
              "\n",
              "    .dataframe tbody tr th {\n",
              "        vertical-align: top;\n",
              "    }\n",
              "\n",
              "    .dataframe thead th {\n",
              "        text-align: right;\n",
              "    }\n",
              "</style>\n",
              "<table border=\"1\" class=\"dataframe\">\n",
              "  <thead>\n",
              "    <tr style=\"text-align: right;\">\n",
              "      <th></th>\n",
              "      <th>id</th>\n",
              "      <th>original_title</th>\n",
              "      <th>overview</th>\n",
              "      <th>genres</th>\n",
              "      <th>release_date</th>\n",
              "      <th>runtime</th>\n",
              "      <th>keywords</th>\n",
              "      <th>cast</th>\n",
              "    </tr>\n",
              "  </thead>\n",
              "  <tbody>\n",
              "    <tr>\n",
              "      <th>0</th>\n",
              "      <td>862</td>\n",
              "      <td>Toy Story</td>\n",
              "      <td>Led by Woody, Andy's toys live happily in his ...</td>\n",
              "      <td>[{'id': 16, 'name': 'Animation'}, {'id': 35, '...</td>\n",
              "      <td>1995-10-30</td>\n",
              "      <td>81.0</td>\n",
              "      <td>[{'id': 931, 'name': 'jealousy'}, {'id': 4290,...</td>\n",
              "      <td>[{'cast_id': 14, 'character': 'Woody (voice)',...</td>\n",
              "    </tr>\n",
              "    <tr>\n",
              "      <th>1</th>\n",
              "      <td>8844</td>\n",
              "      <td>Jumanji</td>\n",
              "      <td>When siblings Judy and Peter discover an encha...</td>\n",
              "      <td>[{'id': 12, 'name': 'Adventure'}, {'id': 14, '...</td>\n",
              "      <td>1995-12-15</td>\n",
              "      <td>104.0</td>\n",
              "      <td>[{'id': 10090, 'name': 'board game'}, {'id': 1...</td>\n",
              "      <td>[{'cast_id': 1, 'character': 'Alan Parrish', '...</td>\n",
              "    </tr>\n",
              "    <tr>\n",
              "      <th>2</th>\n",
              "      <td>11862</td>\n",
              "      <td>Father of the Bride Part II</td>\n",
              "      <td>Just when George Banks has recovered from his ...</td>\n",
              "      <td>[{'id': 35, 'name': 'Comedy'}]</td>\n",
              "      <td>1995-02-10</td>\n",
              "      <td>106.0</td>\n",
              "      <td>[{'id': 1009, 'name': 'baby'}, {'id': 1599, 'n...</td>\n",
              "      <td>[{'cast_id': 1, 'character': 'George Banks', '...</td>\n",
              "    </tr>\n",
              "    <tr>\n",
              "      <th>3</th>\n",
              "      <td>949</td>\n",
              "      <td>Heat</td>\n",
              "      <td>Obsessive master thief, Neil McCauley leads a ...</td>\n",
              "      <td>[{'id': 28, 'name': 'Action'}, {'id': 80, 'nam...</td>\n",
              "      <td>1995-12-15</td>\n",
              "      <td>170.0</td>\n",
              "      <td>[{'id': 642, 'name': 'robbery'}, {'id': 703, '...</td>\n",
              "      <td>[{'cast_id': 25, 'character': 'Lt. Vincent Han...</td>\n",
              "    </tr>\n",
              "    <tr>\n",
              "      <th>4</th>\n",
              "      <td>11860</td>\n",
              "      <td>Sabrina</td>\n",
              "      <td>An ugly duckling having undergone a remarkable...</td>\n",
              "      <td>[{'id': 35, 'name': 'Comedy'}, {'id': 10749, '...</td>\n",
              "      <td>1995-12-15</td>\n",
              "      <td>127.0</td>\n",
              "      <td>[{'id': 90, 'name': 'paris'}, {'id': 380, 'nam...</td>\n",
              "      <td>[{'cast_id': 1, 'character': 'Linus Larrabee',...</td>\n",
              "    </tr>\n",
              "  </tbody>\n",
              "</table>\n",
              "</div>"
            ],
            "text/plain": [
              "      id               original_title  \\\n",
              "0    862                    Toy Story   \n",
              "1   8844                      Jumanji   \n",
              "2  11862  Father of the Bride Part II   \n",
              "3    949                         Heat   \n",
              "4  11860                      Sabrina   \n",
              "\n",
              "                                            overview  \\\n",
              "0  Led by Woody, Andy's toys live happily in his ...   \n",
              "1  When siblings Judy and Peter discover an encha...   \n",
              "2  Just when George Banks has recovered from his ...   \n",
              "3  Obsessive master thief, Neil McCauley leads a ...   \n",
              "4  An ugly duckling having undergone a remarkable...   \n",
              "\n",
              "                                              genres release_date  runtime  \\\n",
              "0  [{'id': 16, 'name': 'Animation'}, {'id': 35, '...   1995-10-30     81.0   \n",
              "1  [{'id': 12, 'name': 'Adventure'}, {'id': 14, '...   1995-12-15    104.0   \n",
              "2                     [{'id': 35, 'name': 'Comedy'}]   1995-02-10    106.0   \n",
              "3  [{'id': 28, 'name': 'Action'}, {'id': 80, 'nam...   1995-12-15    170.0   \n",
              "4  [{'id': 35, 'name': 'Comedy'}, {'id': 10749, '...   1995-12-15    127.0   \n",
              "\n",
              "                                            keywords  \\\n",
              "0  [{'id': 931, 'name': 'jealousy'}, {'id': 4290,...   \n",
              "1  [{'id': 10090, 'name': 'board game'}, {'id': 1...   \n",
              "2  [{'id': 1009, 'name': 'baby'}, {'id': 1599, 'n...   \n",
              "3  [{'id': 642, 'name': 'robbery'}, {'id': 703, '...   \n",
              "4  [{'id': 90, 'name': 'paris'}, {'id': 380, 'nam...   \n",
              "\n",
              "                                                cast  \n",
              "0  [{'cast_id': 14, 'character': 'Woody (voice)',...  \n",
              "1  [{'cast_id': 1, 'character': 'Alan Parrish', '...  \n",
              "2  [{'cast_id': 1, 'character': 'George Banks', '...  \n",
              "3  [{'cast_id': 25, 'character': 'Lt. Vincent Han...  \n",
              "4  [{'cast_id': 1, 'character': 'Linus Larrabee',...  "
            ]
          },
          "execution_count": 27,
          "metadata": {},
          "output_type": "execute_result"
        }
      ],
      "source": [
        "movies_df.head()"
      ]
    },
    {
      "cell_type": "markdown",
      "source": [
        "Mengambil data hanya data genre dari variabel genres, Karena variabel genres masil memiliki berbagai data didalamnya"
      ],
      "metadata": {
        "id": "4OxEQbehAOX1"
      }
    },
    {
      "cell_type": "code",
      "execution_count": null,
      "metadata": {
        "id": "7RPKmfxKfnfk",
        "outputId": "ca426717-7073-4e9e-dc45-19e9f20a06df"
      },
      "outputs": [
        {
          "data": {
            "text/html": [
              "<div>\n",
              "<style scoped>\n",
              "    .dataframe tbody tr th:only-of-type {\n",
              "        vertical-align: middle;\n",
              "    }\n",
              "\n",
              "    .dataframe tbody tr th {\n",
              "        vertical-align: top;\n",
              "    }\n",
              "\n",
              "    .dataframe thead th {\n",
              "        text-align: right;\n",
              "    }\n",
              "</style>\n",
              "<table border=\"1\" class=\"dataframe\">\n",
              "  <thead>\n",
              "    <tr style=\"text-align: right;\">\n",
              "      <th></th>\n",
              "      <th>id</th>\n",
              "      <th>original_title</th>\n",
              "      <th>overview</th>\n",
              "      <th>genres</th>\n",
              "      <th>release_date</th>\n",
              "      <th>runtime</th>\n",
              "      <th>keywords</th>\n",
              "      <th>cast</th>\n",
              "      <th>genre</th>\n",
              "    </tr>\n",
              "  </thead>\n",
              "  <tbody>\n",
              "    <tr>\n",
              "      <th>0</th>\n",
              "      <td>862</td>\n",
              "      <td>Toy Story</td>\n",
              "      <td>Led by Woody, Andy's toys live happily in his ...</td>\n",
              "      <td>[{'id': 16, 'name': 'Animation'}, {'id': 35, '...</td>\n",
              "      <td>1995-10-30</td>\n",
              "      <td>81.0</td>\n",
              "      <td>[{'id': 931, 'name': 'jealousy'}, {'id': 4290,...</td>\n",
              "      <td>[{'cast_id': 14, 'character': 'Woody (voice)',...</td>\n",
              "      <td>[Animation, Comedy, Family]</td>\n",
              "    </tr>\n",
              "    <tr>\n",
              "      <th>1</th>\n",
              "      <td>8844</td>\n",
              "      <td>Jumanji</td>\n",
              "      <td>When siblings Judy and Peter discover an encha...</td>\n",
              "      <td>[{'id': 12, 'name': 'Adventure'}, {'id': 14, '...</td>\n",
              "      <td>1995-12-15</td>\n",
              "      <td>104.0</td>\n",
              "      <td>[{'id': 10090, 'name': 'board game'}, {'id': 1...</td>\n",
              "      <td>[{'cast_id': 1, 'character': 'Alan Parrish', '...</td>\n",
              "      <td>[Adventure, Fantasy, Family]</td>\n",
              "    </tr>\n",
              "    <tr>\n",
              "      <th>2</th>\n",
              "      <td>11862</td>\n",
              "      <td>Father of the Bride Part II</td>\n",
              "      <td>Just when George Banks has recovered from his ...</td>\n",
              "      <td>[{'id': 35, 'name': 'Comedy'}]</td>\n",
              "      <td>1995-02-10</td>\n",
              "      <td>106.0</td>\n",
              "      <td>[{'id': 1009, 'name': 'baby'}, {'id': 1599, 'n...</td>\n",
              "      <td>[{'cast_id': 1, 'character': 'George Banks', '...</td>\n",
              "      <td>[Comedy]</td>\n",
              "    </tr>\n",
              "    <tr>\n",
              "      <th>3</th>\n",
              "      <td>949</td>\n",
              "      <td>Heat</td>\n",
              "      <td>Obsessive master thief, Neil McCauley leads a ...</td>\n",
              "      <td>[{'id': 28, 'name': 'Action'}, {'id': 80, 'nam...</td>\n",
              "      <td>1995-12-15</td>\n",
              "      <td>170.0</td>\n",
              "      <td>[{'id': 642, 'name': 'robbery'}, {'id': 703, '...</td>\n",
              "      <td>[{'cast_id': 25, 'character': 'Lt. Vincent Han...</td>\n",
              "      <td>[Action, Crime, Drama, Thriller]</td>\n",
              "    </tr>\n",
              "    <tr>\n",
              "      <th>4</th>\n",
              "      <td>11860</td>\n",
              "      <td>Sabrina</td>\n",
              "      <td>An ugly duckling having undergone a remarkable...</td>\n",
              "      <td>[{'id': 35, 'name': 'Comedy'}, {'id': 10749, '...</td>\n",
              "      <td>1995-12-15</td>\n",
              "      <td>127.0</td>\n",
              "      <td>[{'id': 90, 'name': 'paris'}, {'id': 380, 'nam...</td>\n",
              "      <td>[{'cast_id': 1, 'character': 'Linus Larrabee',...</td>\n",
              "      <td>[Comedy, Romance]</td>\n",
              "    </tr>\n",
              "  </tbody>\n",
              "</table>\n",
              "</div>"
            ],
            "text/plain": [
              "      id               original_title  \\\n",
              "0    862                    Toy Story   \n",
              "1   8844                      Jumanji   \n",
              "2  11862  Father of the Bride Part II   \n",
              "3    949                         Heat   \n",
              "4  11860                      Sabrina   \n",
              "\n",
              "                                            overview  \\\n",
              "0  Led by Woody, Andy's toys live happily in his ...   \n",
              "1  When siblings Judy and Peter discover an encha...   \n",
              "2  Just when George Banks has recovered from his ...   \n",
              "3  Obsessive master thief, Neil McCauley leads a ...   \n",
              "4  An ugly duckling having undergone a remarkable...   \n",
              "\n",
              "                                              genres release_date  runtime  \\\n",
              "0  [{'id': 16, 'name': 'Animation'}, {'id': 35, '...   1995-10-30     81.0   \n",
              "1  [{'id': 12, 'name': 'Adventure'}, {'id': 14, '...   1995-12-15    104.0   \n",
              "2                     [{'id': 35, 'name': 'Comedy'}]   1995-02-10    106.0   \n",
              "3  [{'id': 28, 'name': 'Action'}, {'id': 80, 'nam...   1995-12-15    170.0   \n",
              "4  [{'id': 35, 'name': 'Comedy'}, {'id': 10749, '...   1995-12-15    127.0   \n",
              "\n",
              "                                            keywords  \\\n",
              "0  [{'id': 931, 'name': 'jealousy'}, {'id': 4290,...   \n",
              "1  [{'id': 10090, 'name': 'board game'}, {'id': 1...   \n",
              "2  [{'id': 1009, 'name': 'baby'}, {'id': 1599, 'n...   \n",
              "3  [{'id': 642, 'name': 'robbery'}, {'id': 703, '...   \n",
              "4  [{'id': 90, 'name': 'paris'}, {'id': 380, 'nam...   \n",
              "\n",
              "                                                cast  \\\n",
              "0  [{'cast_id': 14, 'character': 'Woody (voice)',...   \n",
              "1  [{'cast_id': 1, 'character': 'Alan Parrish', '...   \n",
              "2  [{'cast_id': 1, 'character': 'George Banks', '...   \n",
              "3  [{'cast_id': 25, 'character': 'Lt. Vincent Han...   \n",
              "4  [{'cast_id': 1, 'character': 'Linus Larrabee',...   \n",
              "\n",
              "                              genre  \n",
              "0       [Animation, Comedy, Family]  \n",
              "1      [Adventure, Fantasy, Family]  \n",
              "2                          [Comedy]  \n",
              "3  [Action, Crime, Drama, Thriller]  \n",
              "4                 [Comedy, Romance]  "
            ]
          },
          "execution_count": 28,
          "metadata": {},
          "output_type": "execute_result"
        }
      ],
      "source": [
        "movies_df['genre'] = movies_df['genres'].apply(lambda x: [i['name'] for i in eval(x)])\n",
        "\n",
        "movies_df.head()"
      ]
    },
    {
      "cell_type": "code",
      "execution_count": null,
      "metadata": {
        "id": "uvWbMj7igb8v",
        "outputId": "c8b239ef-6e81-4266-d9c7-38c3d0c739c4"
      },
      "outputs": [
        {
          "data": {
            "text/html": [
              "<div>\n",
              "<style scoped>\n",
              "    .dataframe tbody tr th:only-of-type {\n",
              "        vertical-align: middle;\n",
              "    }\n",
              "\n",
              "    .dataframe tbody tr th {\n",
              "        vertical-align: top;\n",
              "    }\n",
              "\n",
              "    .dataframe thead th {\n",
              "        text-align: right;\n",
              "    }\n",
              "</style>\n",
              "<table border=\"1\" class=\"dataframe\">\n",
              "  <thead>\n",
              "    <tr style=\"text-align: right;\">\n",
              "      <th></th>\n",
              "      <th>id</th>\n",
              "      <th>original_title</th>\n",
              "      <th>overview</th>\n",
              "      <th>genres</th>\n",
              "      <th>release_date</th>\n",
              "      <th>runtime</th>\n",
              "      <th>keywords</th>\n",
              "      <th>cast</th>\n",
              "      <th>genre</th>\n",
              "    </tr>\n",
              "  </thead>\n",
              "  <tbody>\n",
              "    <tr>\n",
              "      <th>0</th>\n",
              "      <td>862</td>\n",
              "      <td>Toy Story</td>\n",
              "      <td>Led by Woody, Andy's toys live happily in his ...</td>\n",
              "      <td>[{'id': 16, 'name': 'Animation'}, {'id': 35, '...</td>\n",
              "      <td>1995-10-30</td>\n",
              "      <td>81.0</td>\n",
              "      <td>[{'id': 931, 'name': 'jealousy'}, {'id': 4290,...</td>\n",
              "      <td>[{'cast_id': 14, 'character': 'Woody (voice)',...</td>\n",
              "      <td>[Animation, Comedy, Family]</td>\n",
              "    </tr>\n",
              "    <tr>\n",
              "      <th>1</th>\n",
              "      <td>8844</td>\n",
              "      <td>Jumanji</td>\n",
              "      <td>When siblings Judy and Peter discover an encha...</td>\n",
              "      <td>[{'id': 12, 'name': 'Adventure'}, {'id': 14, '...</td>\n",
              "      <td>1995-12-15</td>\n",
              "      <td>104.0</td>\n",
              "      <td>[{'id': 10090, 'name': 'board game'}, {'id': 1...</td>\n",
              "      <td>[{'cast_id': 1, 'character': 'Alan Parrish', '...</td>\n",
              "      <td>[Adventure, Fantasy, Family]</td>\n",
              "    </tr>\n",
              "    <tr>\n",
              "      <th>2</th>\n",
              "      <td>11862</td>\n",
              "      <td>Father of the Bride Part II</td>\n",
              "      <td>Just when George Banks has recovered from his ...</td>\n",
              "      <td>[{'id': 35, 'name': 'Comedy'}]</td>\n",
              "      <td>1995-02-10</td>\n",
              "      <td>106.0</td>\n",
              "      <td>[{'id': 1009, 'name': 'baby'}, {'id': 1599, 'n...</td>\n",
              "      <td>[{'cast_id': 1, 'character': 'George Banks', '...</td>\n",
              "      <td>[Comedy]</td>\n",
              "    </tr>\n",
              "    <tr>\n",
              "      <th>3</th>\n",
              "      <td>949</td>\n",
              "      <td>Heat</td>\n",
              "      <td>Obsessive master thief, Neil McCauley leads a ...</td>\n",
              "      <td>[{'id': 28, 'name': 'Action'}, {'id': 80, 'nam...</td>\n",
              "      <td>1995-12-15</td>\n",
              "      <td>170.0</td>\n",
              "      <td>[{'id': 642, 'name': 'robbery'}, {'id': 703, '...</td>\n",
              "      <td>[{'cast_id': 25, 'character': 'Lt. Vincent Han...</td>\n",
              "      <td>[Action, Crime, Drama, Thriller]</td>\n",
              "    </tr>\n",
              "    <tr>\n",
              "      <th>4</th>\n",
              "      <td>11860</td>\n",
              "      <td>Sabrina</td>\n",
              "      <td>An ugly duckling having undergone a remarkable...</td>\n",
              "      <td>[{'id': 35, 'name': 'Comedy'}, {'id': 10749, '...</td>\n",
              "      <td>1995-12-15</td>\n",
              "      <td>127.0</td>\n",
              "      <td>[{'id': 90, 'name': 'paris'}, {'id': 380, 'nam...</td>\n",
              "      <td>[{'cast_id': 1, 'character': 'Linus Larrabee',...</td>\n",
              "      <td>[Comedy, Romance]</td>\n",
              "    </tr>\n",
              "  </tbody>\n",
              "</table>\n",
              "</div>"
            ],
            "text/plain": [
              "      id               original_title  \\\n",
              "0    862                    Toy Story   \n",
              "1   8844                      Jumanji   \n",
              "2  11862  Father of the Bride Part II   \n",
              "3    949                         Heat   \n",
              "4  11860                      Sabrina   \n",
              "\n",
              "                                            overview  \\\n",
              "0  Led by Woody, Andy's toys live happily in his ...   \n",
              "1  When siblings Judy and Peter discover an encha...   \n",
              "2  Just when George Banks has recovered from his ...   \n",
              "3  Obsessive master thief, Neil McCauley leads a ...   \n",
              "4  An ugly duckling having undergone a remarkable...   \n",
              "\n",
              "                                              genres release_date  runtime  \\\n",
              "0  [{'id': 16, 'name': 'Animation'}, {'id': 35, '...   1995-10-30     81.0   \n",
              "1  [{'id': 12, 'name': 'Adventure'}, {'id': 14, '...   1995-12-15    104.0   \n",
              "2                     [{'id': 35, 'name': 'Comedy'}]   1995-02-10    106.0   \n",
              "3  [{'id': 28, 'name': 'Action'}, {'id': 80, 'nam...   1995-12-15    170.0   \n",
              "4  [{'id': 35, 'name': 'Comedy'}, {'id': 10749, '...   1995-12-15    127.0   \n",
              "\n",
              "                                            keywords  \\\n",
              "0  [{'id': 931, 'name': 'jealousy'}, {'id': 4290,...   \n",
              "1  [{'id': 10090, 'name': 'board game'}, {'id': 1...   \n",
              "2  [{'id': 1009, 'name': 'baby'}, {'id': 1599, 'n...   \n",
              "3  [{'id': 642, 'name': 'robbery'}, {'id': 703, '...   \n",
              "4  [{'id': 90, 'name': 'paris'}, {'id': 380, 'nam...   \n",
              "\n",
              "                                                cast  \\\n",
              "0  [{'cast_id': 14, 'character': 'Woody (voice)',...   \n",
              "1  [{'cast_id': 1, 'character': 'Alan Parrish', '...   \n",
              "2  [{'cast_id': 1, 'character': 'George Banks', '...   \n",
              "3  [{'cast_id': 25, 'character': 'Lt. Vincent Han...   \n",
              "4  [{'cast_id': 1, 'character': 'Linus Larrabee',...   \n",
              "\n",
              "                              genre  \n",
              "0       [Animation, Comedy, Family]  \n",
              "1      [Adventure, Fantasy, Family]  \n",
              "2                          [Comedy]  \n",
              "3  [Action, Crime, Drama, Thriller]  \n",
              "4                 [Comedy, Romance]  "
            ]
          },
          "execution_count": 29,
          "metadata": {},
          "output_type": "execute_result"
        }
      ],
      "source": [
        "movies_df['genre'] = movies_df['genre'].apply(lambda x: [i.replace(\" \", \"\") for i in x])\n",
        "\n",
        "movies_df.head()"
      ]
    },
    {
      "cell_type": "markdown",
      "source": [
        "Mengecek apakah ada data null"
      ],
      "metadata": {
        "id": "59AdWUK6Abis"
      }
    },
    {
      "cell_type": "code",
      "execution_count": null,
      "metadata": {
        "id": "ocx-eDftgo9K",
        "outputId": "2a4c38b2-6014-4f47-9cac-96ea00cdc88c"
      },
      "outputs": [
        {
          "data": {
            "text/plain": [
              "id                 0\n",
              "original_title     0\n",
              "overview          12\n",
              "genres             0\n",
              "release_date       0\n",
              "runtime            0\n",
              "keywords           0\n",
              "cast               0\n",
              "genre              0\n",
              "dtype: int64"
            ]
          },
          "execution_count": 30,
          "metadata": {},
          "output_type": "execute_result"
        }
      ],
      "source": [
        "movies_df.isnull().sum()"
      ]
    },
    {
      "cell_type": "code",
      "execution_count": null,
      "metadata": {
        "id": "58_Oa0tBgxVu"
      },
      "outputs": [],
      "source": [
        "movies_df['keywords'].fillna('[]', inplace=True)"
      ]
    },
    {
      "cell_type": "code",
      "execution_count": null,
      "metadata": {
        "id": "wRIJIJYEhBi-"
      },
      "outputs": [],
      "source": [
        "movies_df['genre'] = movies_df['genre'].apply(lambda x: ', '.join(x))"
      ]
    },
    {
      "cell_type": "code",
      "execution_count": null,
      "metadata": {
        "id": "pPVNe9qhhFqI"
      },
      "outputs": [],
      "source": [
        "# movies_df['genre'] = movies_df['genre'].apply(lambda x: ' '.join(x))"
      ]
    },
    {
      "cell_type": "markdown",
      "source": [
        "Menghapus kolom genres karena sudah tidak digunakan lagi. Sudah diganti oleh kolom genre"
      ],
      "metadata": {
        "id": "NufU7hBuAsBB"
      }
    },
    {
      "cell_type": "code",
      "execution_count": null,
      "metadata": {
        "id": "tq1zz4-ehMkI"
      },
      "outputs": [],
      "source": [
        "movies_df.drop('genres', axis=1, inplace=True)"
      ]
    },
    {
      "cell_type": "code",
      "execution_count": null,
      "metadata": {
        "id": "5EY85JfGhQhl",
        "outputId": "029c3f99-d9b1-4517-e27c-7bb6224a85b5"
      },
      "outputs": [
        {
          "data": {
            "text/html": [
              "<div>\n",
              "<style scoped>\n",
              "    .dataframe tbody tr th:only-of-type {\n",
              "        vertical-align: middle;\n",
              "    }\n",
              "\n",
              "    .dataframe tbody tr th {\n",
              "        vertical-align: top;\n",
              "    }\n",
              "\n",
              "    .dataframe thead th {\n",
              "        text-align: right;\n",
              "    }\n",
              "</style>\n",
              "<table border=\"1\" class=\"dataframe\">\n",
              "  <thead>\n",
              "    <tr style=\"text-align: right;\">\n",
              "      <th></th>\n",
              "      <th>id</th>\n",
              "      <th>original_title</th>\n",
              "      <th>overview</th>\n",
              "      <th>release_date</th>\n",
              "      <th>runtime</th>\n",
              "      <th>keywords</th>\n",
              "      <th>cast</th>\n",
              "      <th>genre</th>\n",
              "    </tr>\n",
              "  </thead>\n",
              "  <tbody>\n",
              "    <tr>\n",
              "      <th>0</th>\n",
              "      <td>862</td>\n",
              "      <td>Toy Story</td>\n",
              "      <td>Led by Woody, Andy's toys live happily in his ...</td>\n",
              "      <td>1995-10-30</td>\n",
              "      <td>81.0</td>\n",
              "      <td>[{'id': 931, 'name': 'jealousy'}, {'id': 4290,...</td>\n",
              "      <td>[{'cast_id': 14, 'character': 'Woody (voice)',...</td>\n",
              "      <td>Animation, Comedy, Family</td>\n",
              "    </tr>\n",
              "    <tr>\n",
              "      <th>1</th>\n",
              "      <td>8844</td>\n",
              "      <td>Jumanji</td>\n",
              "      <td>When siblings Judy and Peter discover an encha...</td>\n",
              "      <td>1995-12-15</td>\n",
              "      <td>104.0</td>\n",
              "      <td>[{'id': 10090, 'name': 'board game'}, {'id': 1...</td>\n",
              "      <td>[{'cast_id': 1, 'character': 'Alan Parrish', '...</td>\n",
              "      <td>Adventure, Fantasy, Family</td>\n",
              "    </tr>\n",
              "    <tr>\n",
              "      <th>2</th>\n",
              "      <td>11862</td>\n",
              "      <td>Father of the Bride Part II</td>\n",
              "      <td>Just when George Banks has recovered from his ...</td>\n",
              "      <td>1995-02-10</td>\n",
              "      <td>106.0</td>\n",
              "      <td>[{'id': 1009, 'name': 'baby'}, {'id': 1599, 'n...</td>\n",
              "      <td>[{'cast_id': 1, 'character': 'George Banks', '...</td>\n",
              "      <td>Comedy</td>\n",
              "    </tr>\n",
              "    <tr>\n",
              "      <th>3</th>\n",
              "      <td>949</td>\n",
              "      <td>Heat</td>\n",
              "      <td>Obsessive master thief, Neil McCauley leads a ...</td>\n",
              "      <td>1995-12-15</td>\n",
              "      <td>170.0</td>\n",
              "      <td>[{'id': 642, 'name': 'robbery'}, {'id': 703, '...</td>\n",
              "      <td>[{'cast_id': 25, 'character': 'Lt. Vincent Han...</td>\n",
              "      <td>Action, Crime, Drama, Thriller</td>\n",
              "    </tr>\n",
              "    <tr>\n",
              "      <th>4</th>\n",
              "      <td>11860</td>\n",
              "      <td>Sabrina</td>\n",
              "      <td>An ugly duckling having undergone a remarkable...</td>\n",
              "      <td>1995-12-15</td>\n",
              "      <td>127.0</td>\n",
              "      <td>[{'id': 90, 'name': 'paris'}, {'id': 380, 'nam...</td>\n",
              "      <td>[{'cast_id': 1, 'character': 'Linus Larrabee',...</td>\n",
              "      <td>Comedy, Romance</td>\n",
              "    </tr>\n",
              "  </tbody>\n",
              "</table>\n",
              "</div>"
            ],
            "text/plain": [
              "      id               original_title  \\\n",
              "0    862                    Toy Story   \n",
              "1   8844                      Jumanji   \n",
              "2  11862  Father of the Bride Part II   \n",
              "3    949                         Heat   \n",
              "4  11860                      Sabrina   \n",
              "\n",
              "                                            overview release_date  runtime  \\\n",
              "0  Led by Woody, Andy's toys live happily in his ...   1995-10-30     81.0   \n",
              "1  When siblings Judy and Peter discover an encha...   1995-12-15    104.0   \n",
              "2  Just when George Banks has recovered from his ...   1995-02-10    106.0   \n",
              "3  Obsessive master thief, Neil McCauley leads a ...   1995-12-15    170.0   \n",
              "4  An ugly duckling having undergone a remarkable...   1995-12-15    127.0   \n",
              "\n",
              "                                            keywords  \\\n",
              "0  [{'id': 931, 'name': 'jealousy'}, {'id': 4290,...   \n",
              "1  [{'id': 10090, 'name': 'board game'}, {'id': 1...   \n",
              "2  [{'id': 1009, 'name': 'baby'}, {'id': 1599, 'n...   \n",
              "3  [{'id': 642, 'name': 'robbery'}, {'id': 703, '...   \n",
              "4  [{'id': 90, 'name': 'paris'}, {'id': 380, 'nam...   \n",
              "\n",
              "                                                cast  \\\n",
              "0  [{'cast_id': 14, 'character': 'Woody (voice)',...   \n",
              "1  [{'cast_id': 1, 'character': 'Alan Parrish', '...   \n",
              "2  [{'cast_id': 1, 'character': 'George Banks', '...   \n",
              "3  [{'cast_id': 25, 'character': 'Lt. Vincent Han...   \n",
              "4  [{'cast_id': 1, 'character': 'Linus Larrabee',...   \n",
              "\n",
              "                            genre  \n",
              "0       Animation, Comedy, Family  \n",
              "1      Adventure, Fantasy, Family  \n",
              "2                          Comedy  \n",
              "3  Action, Crime, Drama, Thriller  \n",
              "4                 Comedy, Romance  "
            ]
          },
          "execution_count": 35,
          "metadata": {},
          "output_type": "execute_result"
        }
      ],
      "source": [
        "movies_df.head()"
      ]
    },
    {
      "cell_type": "code",
      "execution_count": null,
      "metadata": {
        "id": "ugF8Hl8jlP_9"
      },
      "outputs": [],
      "source": [
        "from collections import defaultdict\n",
        "\n",
        "all_genres = defaultdict(int)\n",
        "\n",
        "for genres in movies_df['genre']:\n",
        "    for genre in genres.split(','):\n",
        "        all_genres[genre.strip()] += 1"
      ]
    },
    {
      "cell_type": "markdown",
      "source": [
        "Menampilkan visualisasi dari genre yang ada"
      ],
      "metadata": {
        "id": "ry3uT0I8A5YQ"
      }
    },
    {
      "cell_type": "code",
      "execution_count": null,
      "metadata": {
        "id": "UZ8z5_cen1Do",
        "outputId": "fe82e4fe-9501-49cb-9824-7c0ffec15c3c"
      },
      "outputs": [
        {
          "data": {
            "image/png": "[encoded data removed]",
            "text/plain": [
              "<Figure size 1152x720 with 1 Axes>"
            ]
          },
          "metadata": {},
          "output_type": "display_data"
        }
      ],
      "source": [
        "from wordcloud import WordCloud\n",
        "\n",
        "genres_cloud = WordCloud(width=800, height=400, background_color='white', colormap='gnuplot').generate_from_frequencies(all_genres)\n",
        "\n",
        "plt.figure(figsize=(16,10))\n",
        "plt.imshow(genres_cloud, interpolation='bilinear')\n",
        "plt.axis('off')\n",
        "plt.show()"
      ]
    },
    {
      "cell_type": "markdown",
      "source": [
        "Di kolom cast hanya diambil data namenya saja"
      ],
      "metadata": {
        "id": "mtsnQ_WzBGp4"
      }
    },
    {
      "cell_type": "code",
      "execution_count": null,
      "metadata": {
        "id": "IbbjvixQhaJ2"
      },
      "outputs": [],
      "source": [
        "movies_df['cast'] = movies_df['cast'].apply(lambda x: [i['name'] for i in eval(x)])\n",
        "movies_df['cast'] = movies_df['cast'].apply(lambda x: ' '.join([i.replace(\" \", \"\") for i in x]))"
      ]
    },
    {
      "cell_type": "markdown",
      "source": [
        "Dikolom keyword juga yang digunakan hanya data namenya saja"
      ],
      "metadata": {
        "id": "l-sxlOUaBMiV"
      }
    },
    {
      "cell_type": "code",
      "execution_count": null,
      "metadata": {
        "id": "r-nsFl6khcw5"
      },
      "outputs": [],
      "source": [
        "movies_df['keywords'] = movies_df['keywords'].apply(lambda x: [i['name'] for i in eval(x)])\n",
        "movies_df['keywords'] = movies_df['keywords'].apply(lambda x: ' '.join([i.replace(\" \", \"\") for i in x]))"
      ]
    },
    {
      "cell_type": "code",
      "execution_count": null,
      "metadata": {
        "id": "pmWtGD2ZhkrX",
        "outputId": "f84216d9-b4bd-4965-9273-20ccf6ed8508"
      },
      "outputs": [
        {
          "data": {
            "text/html": [
              "<div>\n",
              "<style scoped>\n",
              "    .dataframe tbody tr th:only-of-type {\n",
              "        vertical-align: middle;\n",
              "    }\n",
              "\n",
              "    .dataframe tbody tr th {\n",
              "        vertical-align: top;\n",
              "    }\n",
              "\n",
              "    .dataframe thead th {\n",
              "        text-align: right;\n",
              "    }\n",
              "</style>\n",
              "<table border=\"1\" class=\"dataframe\">\n",
              "  <thead>\n",
              "    <tr style=\"text-align: right;\">\n",
              "      <th></th>\n",
              "      <th>id</th>\n",
              "      <th>original_title</th>\n",
              "      <th>overview</th>\n",
              "      <th>release_date</th>\n",
              "      <th>runtime</th>\n",
              "      <th>keywords</th>\n",
              "      <th>cast</th>\n",
              "      <th>genre</th>\n",
              "    </tr>\n",
              "  </thead>\n",
              "  <tbody>\n",
              "    <tr>\n",
              "      <th>0</th>\n",
              "      <td>862</td>\n",
              "      <td>Toy Story</td>\n",
              "      <td>Led by Woody, Andy's toys live happily in his ...</td>\n",
              "      <td>1995-10-30</td>\n",
              "      <td>81.0</td>\n",
              "      <td>jealousy toy boy friendship friends rivalry bo...</td>\n",
              "      <td>TomHanks TimAllen DonRickles JimVarney Wallace...</td>\n",
              "      <td>Animation, Comedy, Family</td>\n",
              "    </tr>\n",
              "    <tr>\n",
              "      <th>1</th>\n",
              "      <td>8844</td>\n",
              "      <td>Jumanji</td>\n",
              "      <td>When siblings Judy and Peter discover an encha...</td>\n",
              "      <td>1995-12-15</td>\n",
              "      <td>104.0</td>\n",
              "      <td>boardgame disappearance basedonchildren'sbook ...</td>\n",
              "      <td>RobinWilliams JonathanHyde KirstenDunst Bradle...</td>\n",
              "      <td>Adventure, Fantasy, Family</td>\n",
              "    </tr>\n",
              "    <tr>\n",
              "      <th>2</th>\n",
              "      <td>11862</td>\n",
              "      <td>Father of the Bride Part II</td>\n",
              "      <td>Just when George Banks has recovered from his ...</td>\n",
              "      <td>1995-02-10</td>\n",
              "      <td>106.0</td>\n",
              "      <td>baby midlifecrisis confidence aging daughter m...</td>\n",
              "      <td>SteveMartin DianeKeaton MartinShort KimberlyWi...</td>\n",
              "      <td>Comedy</td>\n",
              "    </tr>\n",
              "    <tr>\n",
              "      <th>3</th>\n",
              "      <td>949</td>\n",
              "      <td>Heat</td>\n",
              "      <td>Obsessive master thief, Neil McCauley leads a ...</td>\n",
              "      <td>1995-12-15</td>\n",
              "      <td>170.0</td>\n",
              "      <td>robbery detective bank obsession chase shootin...</td>\n",
              "      <td>AlPacino RobertDeNiro ValKilmer JonVoight TomS...</td>\n",
              "      <td>Action, Crime, Drama, Thriller</td>\n",
              "    </tr>\n",
              "    <tr>\n",
              "      <th>4</th>\n",
              "      <td>11860</td>\n",
              "      <td>Sabrina</td>\n",
              "      <td>An ugly duckling having undergone a remarkable...</td>\n",
              "      <td>1995-12-15</td>\n",
              "      <td>127.0</td>\n",
              "      <td>paris brotherbrotherrelationship chauffeur lon...</td>\n",
              "      <td>HarrisonFord JuliaOrmond GregKinnear AngieDick...</td>\n",
              "      <td>Comedy, Romance</td>\n",
              "    </tr>\n",
              "  </tbody>\n",
              "</table>\n",
              "</div>"
            ],
            "text/plain": [
              "      id               original_title  \\\n",
              "0    862                    Toy Story   \n",
              "1   8844                      Jumanji   \n",
              "2  11862  Father of the Bride Part II   \n",
              "3    949                         Heat   \n",
              "4  11860                      Sabrina   \n",
              "\n",
              "                                            overview release_date  runtime  \\\n",
              "0  Led by Woody, Andy's toys live happily in his ...   1995-10-30     81.0   \n",
              "1  When siblings Judy and Peter discover an encha...   1995-12-15    104.0   \n",
              "2  Just when George Banks has recovered from his ...   1995-02-10    106.0   \n",
              "3  Obsessive master thief, Neil McCauley leads a ...   1995-12-15    170.0   \n",
              "4  An ugly duckling having undergone a remarkable...   1995-12-15    127.0   \n",
              "\n",
              "                                            keywords  \\\n",
              "0  jealousy toy boy friendship friends rivalry bo...   \n",
              "1  boardgame disappearance basedonchildren'sbook ...   \n",
              "2  baby midlifecrisis confidence aging daughter m...   \n",
              "3  robbery detective bank obsession chase shootin...   \n",
              "4  paris brotherbrotherrelationship chauffeur lon...   \n",
              "\n",
              "                                                cast  \\\n",
              "0  TomHanks TimAllen DonRickles JimVarney Wallace...   \n",
              "1  RobinWilliams JonathanHyde KirstenDunst Bradle...   \n",
              "2  SteveMartin DianeKeaton MartinShort KimberlyWi...   \n",
              "3  AlPacino RobertDeNiro ValKilmer JonVoight TomS...   \n",
              "4  HarrisonFord JuliaOrmond GregKinnear AngieDick...   \n",
              "\n",
              "                            genre  \n",
              "0       Animation, Comedy, Family  \n",
              "1      Adventure, Fantasy, Family  \n",
              "2                          Comedy  \n",
              "3  Action, Crime, Drama, Thriller  \n",
              "4                 Comedy, Romance  "
            ]
          },
          "execution_count": 41,
          "metadata": {},
          "output_type": "execute_result"
        }
      ],
      "source": [
        "movies_df.head()"
      ]
    },
    {
      "cell_type": "code",
      "execution_count": null,
      "metadata": {
        "id": "ZYzBHhx-jrzw"
      },
      "outputs": [],
      "source": [
        "movies_df['tags'] = movies_df['overview']+' '+movies_df['keywords']+' '+movies_df['cast']+' '+movies_df['genre']+' '+movies_df['original_title']"
      ]
    },
    {
      "cell_type": "code",
      "execution_count": null,
      "metadata": {
        "id": "-g6HJ3vZjyb1",
        "outputId": "2515eaf9-34a3-46fb-8001-e8c3a845ae87"
      },
      "outputs": [
        {
          "data": {
            "text/plain": [
              "0       Led by Woody, Andy's toys live happily in his ...\n",
              "1       When siblings Judy and Peter discover an encha...\n",
              "2       Just when George Banks has recovered from his ...\n",
              "3       Obsessive master thief, Neil McCauley leads a ...\n",
              "4       An ugly duckling having undergone a remarkable...\n",
              "                              ...                        \n",
              "5776    While holidaying in the French Alps, a Swedish...\n",
              "5777    Franky and Krimo dream of leaving the grey gri...\n",
              "5778    Stuck in the corridors of time, Godefroy de Mo...\n",
              "5779    A closeted boy runs the risk of being outed by...\n",
              "5780    Hyperactive teenager Kelly is enrolled into a ...\n",
              "Name: tags, Length: 5781, dtype: object"
            ]
          },
          "execution_count": 43,
          "metadata": {},
          "output_type": "execute_result"
        }
      ],
      "source": [
        "movies_df['tags']"
      ]
    },
    {
      "cell_type": "markdown",
      "source": [
        "Mengahpus beberapa kolom yang sudah digunakan lagi"
      ],
      "metadata": {
        "id": "CB68QZDeBnD9"
      }
    },
    {
      "cell_type": "code",
      "execution_count": null,
      "metadata": {
        "id": "eun5LzA4kD9w"
      },
      "outputs": [],
      "source": [
        "movies_df.drop(['genre', 'keywords', 'cast', 'overview'], axis=1, inplace=True)"
      ]
    },
    {
      "cell_type": "markdown",
      "source": [
        "Mengubah type data di kolom runtime menjadi type data integer"
      ],
      "metadata": {
        "id": "baX_YuQLBt8M"
      }
    },
    {
      "cell_type": "code",
      "execution_count": null,
      "metadata": {
        "id": "8oOt5HYSpzdm"
      },
      "outputs": [],
      "source": [
        "movies_df['runtime'] = movies_df['runtime'].astype(\"int\")"
      ]
    },
    {
      "cell_type": "code",
      "execution_count": null,
      "metadata": {
        "id": "xZO4hi4skJO_",
        "outputId": "62cc8616-e911-4ad8-93ae-3fc3a7299e84"
      },
      "outputs": [
        {
          "data": {
            "text/html": [
              "<div>\n",
              "<style scoped>\n",
              "    .dataframe tbody tr th:only-of-type {\n",
              "        vertical-align: middle;\n",
              "    }\n",
              "\n",
              "    .dataframe tbody tr th {\n",
              "        vertical-align: top;\n",
              "    }\n",
              "\n",
              "    .dataframe thead th {\n",
              "        text-align: right;\n",
              "    }\n",
              "</style>\n",
              "<table border=\"1\" class=\"dataframe\">\n",
              "  <thead>\n",
              "    <tr style=\"text-align: right;\">\n",
              "      <th></th>\n",
              "      <th>id</th>\n",
              "      <th>original_title</th>\n",
              "      <th>release_date</th>\n",
              "      <th>runtime</th>\n",
              "      <th>tags</th>\n",
              "    </tr>\n",
              "  </thead>\n",
              "  <tbody>\n",
              "    <tr>\n",
              "      <th>0</th>\n",
              "      <td>862</td>\n",
              "      <td>Toy Story</td>\n",
              "      <td>1995-10-30</td>\n",
              "      <td>81</td>\n",
              "      <td>Led by Woody, Andy's toys live happily in his ...</td>\n",
              "    </tr>\n",
              "    <tr>\n",
              "      <th>1</th>\n",
              "      <td>8844</td>\n",
              "      <td>Jumanji</td>\n",
              "      <td>1995-12-15</td>\n",
              "      <td>104</td>\n",
              "      <td>When siblings Judy and Peter discover an encha...</td>\n",
              "    </tr>\n",
              "    <tr>\n",
              "      <th>2</th>\n",
              "      <td>11862</td>\n",
              "      <td>Father of the Bride Part II</td>\n",
              "      <td>1995-02-10</td>\n",
              "      <td>106</td>\n",
              "      <td>Just when George Banks has recovered from his ...</td>\n",
              "    </tr>\n",
              "    <tr>\n",
              "      <th>3</th>\n",
              "      <td>949</td>\n",
              "      <td>Heat</td>\n",
              "      <td>1995-12-15</td>\n",
              "      <td>170</td>\n",
              "      <td>Obsessive master thief, Neil McCauley leads a ...</td>\n",
              "    </tr>\n",
              "    <tr>\n",
              "      <th>4</th>\n",
              "      <td>11860</td>\n",
              "      <td>Sabrina</td>\n",
              "      <td>1995-12-15</td>\n",
              "      <td>127</td>\n",
              "      <td>An ugly duckling having undergone a remarkable...</td>\n",
              "    </tr>\n",
              "  </tbody>\n",
              "</table>\n",
              "</div>"
            ],
            "text/plain": [
              "      id               original_title release_date  runtime  \\\n",
              "0    862                    Toy Story   1995-10-30       81   \n",
              "1   8844                      Jumanji   1995-12-15      104   \n",
              "2  11862  Father of the Bride Part II   1995-02-10      106   \n",
              "3    949                         Heat   1995-12-15      170   \n",
              "4  11860                      Sabrina   1995-12-15      127   \n",
              "\n",
              "                                                tags  \n",
              "0  Led by Woody, Andy's toys live happily in his ...  \n",
              "1  When siblings Judy and Peter discover an encha...  \n",
              "2  Just when George Banks has recovered from his ...  \n",
              "3  Obsessive master thief, Neil McCauley leads a ...  \n",
              "4  An ugly duckling having undergone a remarkable...  "
            ]
          },
          "execution_count": 46,
          "metadata": {},
          "output_type": "execute_result"
        }
      ],
      "source": [
        "movies_df.head()"
      ]
    },
    {
      "cell_type": "markdown",
      "source": [
        "Mengecek apakah masih ada data yang null"
      ],
      "metadata": {
        "id": "0h4jqEJvB2Nn"
      }
    },
    {
      "cell_type": "code",
      "execution_count": null,
      "metadata": {
        "id": "i5FH34iykTMU",
        "outputId": "d8e174d8-ff54-4b11-9231-660ac2322d32"
      },
      "outputs": [
        {
          "data": {
            "text/plain": [
              "id                 0\n",
              "original_title     0\n",
              "release_date       0\n",
              "runtime            0\n",
              "tags              12\n",
              "dtype: int64"
            ]
          },
          "execution_count": 47,
          "metadata": {},
          "output_type": "execute_result"
        }
      ],
      "source": [
        "movies_df.isnull().sum()"
      ]
    },
    {
      "cell_type": "markdown",
      "source": [
        "Menghapus data yang null du komlom tags"
      ],
      "metadata": {
        "id": "QEt-HfmHB6g6"
      }
    },
    {
      "cell_type": "code",
      "execution_count": null,
      "metadata": {
        "id": "Zt1CyT9ckYD2"
      },
      "outputs": [],
      "source": [
        "movies_df.drop(movies_df[movies_df['tags'].isnull()].index, inplace=True)"
      ]
    },
    {
      "cell_type": "code",
      "execution_count": null,
      "metadata": {
        "id": "Q4o3TW0FkcNg",
        "outputId": "4819c3b0-bb47-4bab-c912-24723585517f"
      },
      "outputs": [
        {
          "data": {
            "text/plain": [
              "(5769, 5)"
            ]
          },
          "execution_count": 49,
          "metadata": {},
          "output_type": "execute_result"
        }
      ],
      "source": [
        "movies_df.shape"
      ]
    },
    {
      "cell_type": "markdown",
      "source": [
        "Menghapus duplikat data"
      ],
      "metadata": {
        "id": "rVnBr_TUB_cc"
      }
    },
    {
      "cell_type": "code",
      "execution_count": null,
      "metadata": {
        "id": "2TwXzzLDkg5I"
      },
      "outputs": [],
      "source": [
        "movies_df.drop_duplicates(inplace=True)"
      ]
    },
    {
      "cell_type": "code",
      "execution_count": null,
      "metadata": {
        "id": "qnpPx9Vhkj9v",
        "outputId": "84b95c52-5b34-4ceb-a4a1-ce7fa0f26d37"
      },
      "outputs": [
        {
          "data": {
            "text/plain": [
              "(5693, 5)"
            ]
          },
          "execution_count": 51,
          "metadata": {},
          "output_type": "execute_result"
        }
      ],
      "source": [
        "movies_df.shape"
      ]
    },
    {
      "cell_type": "markdown",
      "source": [
        "# Model Development dengan Content Based Filtering"
      ],
      "metadata": {
        "id": "H14UIAClCIcK"
      }
    },
    {
      "cell_type": "markdown",
      "source": [
        "Import Library Tfidf yang akan digunakan"
      ],
      "metadata": {
        "id": "QaKx50mxCLha"
      }
    },
    {
      "cell_type": "code",
      "execution_count": null,
      "metadata": {
        "id": "M0PZQEqQlCCi"
      },
      "outputs": [],
      "source": [
        "from sklearn.feature_extraction.text import TfidfVectorizer"
      ]
    },
    {
      "cell_type": "markdown",
      "source": [
        "mengidenfikasi tfidf dengan maksimal feture 5000"
      ],
      "metadata": {
        "id": "OOCe5WzhCUdV"
      }
    },
    {
      "cell_type": "code",
      "execution_count": null,
      "metadata": {
        "id": "TMs1_xINlGm3"
      },
      "outputs": [],
      "source": [
        "# Common words have less IDF\n",
        "# Unique Words have high IDF\n",
        "tfidf = TfidfVectorizer(max_features=5000)"
      ]
    },
    {
      "cell_type": "code",
      "execution_count": null,
      "metadata": {
        "id": "k7YyS0OzlJkn"
      },
      "outputs": [],
      "source": [
        "vectorized_data = tfidf.fit_transform(movies_df['tags'].values)"
      ]
    },
    {
      "cell_type": "markdown",
      "source": [
        "Menampilkan tfidf dari kolom tags"
      ],
      "metadata": {
        "id": "eZ62sGDhCmsb"
      }
    },
    {
      "cell_type": "code",
      "execution_count": null,
      "metadata": {
        "id": "MMFHcMgOlMri",
        "outputId": "8f7e26cb-0a0c-4eaf-8954-a16a65ad2a63"
      },
      "outputs": [
        {
          "data": {
            "text/plain": [
              "['000',\n",
              " '10',\n",
              " '11',\n",
              " '12',\n",
              " '13',\n",
              " '13th',\n",
              " '14',\n",
              " '15',\n",
              " '16',\n",
              " '17',\n",
              " '18',\n",
              " '19',\n",
              " '1920s',\n",
              " '1930s',\n",
              " '1940s',\n",
              " '1950s',\n",
              " '1960s',\n",
              " '1970s',\n",
              " '1980s',\n",
              " '1990s',\n",
              " '19th',\n",
              " '19thcentury',\n",
              " '20',\n",
              " '20th',\n",
              " '24',\n",
              " '25',\n",
              " '30',\n",
              " '300',\n",
              " '3d',\n",
              " '40',\n",
              " '50',\n",
              " '50cent',\n",
              " 'aaron',\n",
              " 'aaroneckhart',\n",
              " 'aarontaylor',\n",
              " 'aasifmandvi',\n",
              " 'abandoned',\n",
              " 'abducted',\n",
              " 'abigailbreslin',\n",
              " 'abilities',\n",
              " 'ability',\n",
              " 'able',\n",
              " 'aboard',\n",
              " 'about',\n",
              " 'above',\n",
              " 'abuse',\n",
              " 'abusive',\n",
              " 'academy',\n",
              " 'accepts',\n",
              " 'accident',\n",
              " 'accidentally',\n",
              " 'accompanied',\n",
              " 'account',\n",
              " 'accountant',\n",
              " 'accused',\n",
              " 'across',\n",
              " 'act',\n",
              " 'action',\n",
              " 'actions',\n",
              " 'activist',\n",
              " 'activities',\n",
              " 'activity',\n",
              " 'actor',\n",
              " 'actress',\n",
              " 'actually',\n",
              " 'adam',\n",
              " 'adambrody',\n",
              " 'adamdriver',\n",
              " 'adamgoldberg',\n",
              " 'adamlefevre',\n",
              " 'adams',\n",
              " 'adamsandler',\n",
              " 'adamscott',\n",
              " 'adaptation',\n",
              " 'addiction',\n",
              " 'adewaleakinnuoye',\n",
              " 'adolescence',\n",
              " 'adopted',\n",
              " 'adoption',\n",
              " 'adrianmartinez',\n",
              " 'adrienbrody',\n",
              " 'adult',\n",
              " 'adultanimation',\n",
              " 'adultery',\n",
              " 'adulthood',\n",
              " 'adults',\n",
              " 'adventure',\n",
              " 'adventures',\n",
              " 'advertising',\n",
              " 'advice',\n",
              " 'affair',\n",
              " 'affairs',\n",
              " 'afghanistan',\n",
              " 'africa',\n",
              " 'african',\n",
              " 'after',\n",
              " 'aftercreditsstinger',\n",
              " 'afterlife',\n",
              " 'aftermath',\n",
              " 'again',\n",
              " 'against',\n",
              " 'agbaje',\n",
              " 'age',\n",
              " 'aged',\n",
              " 'agedifference',\n",
              " 'agency',\n",
              " 'agenda',\n",
              " 'agent',\n",
              " 'agents',\n",
              " 'aggressive',\n",
              " 'aging',\n",
              " 'ago',\n",
              " 'agree',\n",
              " 'agrees',\n",
              " 'ahead',\n",
              " 'aid',\n",
              " 'aided',\n",
              " 'aids',\n",
              " 'air',\n",
              " 'airplane',\n",
              " 'airport',\n",
              " 'al',\n",
              " 'alainchabat',\n",
              " 'alan',\n",
              " 'alanarkin',\n",
              " 'alancumming',\n",
              " 'alanrickman',\n",
              " 'alantudyk',\n",
              " 'alaska',\n",
              " 'albert',\n",
              " 'albertbrooks',\n",
              " 'albertfinney',\n",
              " 'alcohol',\n",
              " 'alcoholic',\n",
              " 'alcoholism',\n",
              " 'alecbaldwin',\n",
              " 'alex',\n",
              " 'alexanderskarsgård',\n",
              " 'alexborstein',\n",
              " 'alfredhitchcock',\n",
              " 'alfredmolina',\n",
              " 'alfrewoodard',\n",
              " 'ali',\n",
              " 'aliashawkat',\n",
              " 'alice',\n",
              " 'aliceeve',\n",
              " 'aliciavikander',\n",
              " 'alien',\n",
              " 'alieninvasion',\n",
              " 'alienlife',\n",
              " 'aliens',\n",
              " 'alike',\n",
              " 'alilarter',\n",
              " 'alive',\n",
              " 'all',\n",
              " 'allen',\n",
              " 'allencovert',\n",
              " 'alliance',\n",
              " 'allied',\n",
              " 'allies',\n",
              " 'allisonjanney',\n",
              " 'allow',\n",
              " 'allowing',\n",
              " 'allows',\n",
              " 'ally',\n",
              " 'almost',\n",
              " 'alone',\n",
              " 'along',\n",
              " 'alongside',\n",
              " 'alpacino',\n",
              " 'alpha',\n",
              " 'alps',\n",
              " 'already',\n",
              " 'also',\n",
              " 'alter',\n",
              " 'alternate',\n",
              " 'although',\n",
              " 'always',\n",
              " 'alzheimer',\n",
              " 'am',\n",
              " 'amanda',\n",
              " 'amandapeet',\n",
              " 'amandaseyfried',\n",
              " 'amazing',\n",
              " 'amazon',\n",
              " 'ambassador',\n",
              " 'amberheard',\n",
              " 'ambition',\n",
              " 'ambitious',\n",
              " 'ambush',\n",
              " 'america',\n",
              " 'american',\n",
              " 'americanfootball',\n",
              " 'americans',\n",
              " 'amnesia',\n",
              " 'among',\n",
              " 'amp',\n",
              " 'amusementpark',\n",
              " 'amy',\n",
              " 'amyadams',\n",
              " 'amypoehler',\n",
              " 'amyryan',\n",
              " 'amysmart',\n",
              " 'an',\n",
              " 'analyst',\n",
              " 'anarchiccomedy',\n",
              " 'ancient',\n",
              " 'ancientworld',\n",
              " 'and',\n",
              " 'anderson',\n",
              " 'andiemacdowell',\n",
              " 'andrew',\n",
              " 'andrewdaly',\n",
              " 'android',\n",
              " 'andy',\n",
              " 'andydick',\n",
              " 'andygarcía',\n",
              " 'andyrichter',\n",
              " 'andysamberg',\n",
              " 'andyserkis',\n",
              " 'angel',\n",
              " 'angelabassett',\n",
              " 'angeles',\n",
              " 'angelinajolie',\n",
              " 'angelo',\n",
              " 'angels',\n",
              " 'anger',\n",
              " 'angry',\n",
              " 'animal',\n",
              " 'animalhorror',\n",
              " 'animals',\n",
              " 'animated',\n",
              " 'animation',\n",
              " 'anime',\n",
              " 'anjelicahuston',\n",
              " 'ann',\n",
              " 'anna',\n",
              " 'annafaris',\n",
              " 'annakendrick',\n",
              " 'annapaquin',\n",
              " 'anndowd',\n",
              " 'anne',\n",
              " 'annefletcher',\n",
              " 'annehathaway',\n",
              " 'anneheche',\n",
              " 'annemoss',\n",
              " 'annie',\n",
              " 'annual',\n",
              " 'another',\n",
              " 'answers',\n",
              " 'ant',\n",
              " 'anthology',\n",
              " 'anthony',\n",
              " 'anthonyanderson',\n",
              " 'anthonyhopkins',\n",
              " 'anthonymackie',\n",
              " 'anthropomorphism',\n",
              " 'anti',\n",
              " 'antics',\n",
              " 'antihero',\n",
              " 'antoniobanderas',\n",
              " 'antonyelchin',\n",
              " 'any',\n",
              " 'anyone',\n",
              " 'anything',\n",
              " 'apart',\n",
              " 'apartment',\n",
              " 'ape',\n",
              " 'apes',\n",
              " 'apocalypse',\n",
              " 'apocalyptic',\n",
              " 'appear',\n",
              " 'appearance',\n",
              " 'appears',\n",
              " 'apprentice',\n",
              " 'approach',\n",
              " 'arab',\n",
              " 'archaeologist',\n",
              " 'architect',\n",
              " 'arcy',\n",
              " 'are',\n",
              " 'area',\n",
              " 'arielwinter',\n",
              " 'aristocrat',\n",
              " 'arizona',\n",
              " 'armed',\n",
              " 'arminmueller',\n",
              " 'arms',\n",
              " 'armstrong',\n",
              " 'army',\n",
              " 'arnoldschwarzenegger',\n",
              " 'around',\n",
              " 'arrest',\n",
              " 'arrested',\n",
              " 'arrival',\n",
              " 'arrive',\n",
              " 'arrives',\n",
              " 'arriving',\n",
              " 'arrogant',\n",
              " 'art',\n",
              " 'arthur',\n",
              " 'arthurtovey',\n",
              " 'artificial',\n",
              " 'artificialintelligence',\n",
              " 'artist',\n",
              " 'artlafleur',\n",
              " 'arts',\n",
              " 'as',\n",
              " 'ashleyjudd',\n",
              " 'ashtonkutcher',\n",
              " 'aside',\n",
              " 'ask',\n",
              " 'asked',\n",
              " 'asks',\n",
              " 'aspiring',\n",
              " 'assassin',\n",
              " 'assassination',\n",
              " 'assassins',\n",
              " 'assault',\n",
              " 'assigned',\n",
              " 'assignment',\n",
              " 'assistant',\n",
              " 'assumes',\n",
              " 'asterix',\n",
              " 'asteroid',\n",
              " 'astronaut',\n",
              " 'astérix',\n",
              " 'asylum',\n",
              " 'at',\n",
              " 'athlete',\n",
              " 'atomicbomb',\n",
              " 'attack',\n",
              " 'attacked',\n",
              " 'attacks',\n",
              " 'attempt',\n",
              " 'attempting',\n",
              " 'attempts',\n",
              " 'attention',\n",
              " 'attitude',\n",
              " 'attorney',\n",
              " 'attraction',\n",
              " 'attractive',\n",
              " 'aunt',\n",
              " 'austin',\n",
              " 'australia',\n",
              " 'australian',\n",
              " 'author',\n",
              " 'authorities',\n",
              " 'authority',\n",
              " 'auto',\n",
              " 'avaacres',\n",
              " 'avenge',\n",
              " 'avoid',\n",
              " 'awakens',\n",
              " 'award',\n",
              " 'away',\n",
              " 'awkward',\n",
              " 'awry',\n",
              " 'baby',\n",
              " 'bachelor',\n",
              " 'back',\n",
              " 'backdrop',\n",
              " 'bad',\n",
              " 'bag',\n",
              " 'bailey',\n",
              " 'baker',\n",
              " 'balance',\n",
              " 'ball',\n",
              " 'ballet',\n",
              " 'band',\n",
              " 'bank',\n",
              " 'banker',\n",
              " 'bankrobber',\n",
              " 'bankrobbery',\n",
              " 'banks',\n",
              " 'baptiste',\n",
              " 'bar',\n",
              " 'barbarahershey',\n",
              " 'barbie',\n",
              " 'barely',\n",
              " 'bargained',\n",
              " 'barry',\n",
              " 'barrypepper',\n",
              " 'barryshabakahenley',\n",
              " 'baseball',\n",
              " 'based',\n",
              " 'basedonchildren',\n",
              " 'basedoncomic',\n",
              " 'basedongraphicnovel',\n",
              " 'basedonnovel',\n",
              " 'basedonplayormusical',\n",
              " 'basedontrueevents',\n",
              " 'basedontruestory',\n",
              " 'basedontvseries',\n",
              " 'basedonvideogame',\n",
              " 'basedonyoungadultnovel',\n",
              " 'basement',\n",
              " 'basketball',\n",
              " 'batman',\n",
              " 'battle',\n",
              " 'battlefield',\n",
              " 'battles',\n",
              " 'battling',\n",
              " 'bay',\n",
              " 'bdwong',\n",
              " 'be',\n",
              " 'beach',\n",
              " 'bear',\n",
              " 'beast',\n",
              " 'beat',\n",
              " 'beating',\n",
              " 'beautiful',\n",
              " 'beauty',\n",
              " 'became',\n",
              " 'because',\n",
              " 'become',\n",
              " 'becomes',\n",
              " 'becoming',\n",
              " 'becominganadult',\n",
              " 'bed',\n",
              " 'been',\n",
              " 'beer',\n",
              " 'before',\n",
              " 'befriends',\n",
              " 'began',\n",
              " 'begin',\n",
              " 'beginning',\n",
              " 'begins',\n",
              " 'behavior',\n",
              " 'behind',\n",
              " 'being',\n",
              " 'beings',\n",
              " 'believe',\n",
              " 'believed',\n",
              " 'believes',\n",
              " 'bell',\n",
              " 'belle',\n",
              " 'beloved',\n",
              " 'below',\n",
              " 'ben',\n",
              " 'benaffleck',\n",
              " 'beneath',\n",
              " 'benedictcumberbatch',\n",
              " 'benfoster',\n",
              " 'beniciodeltoro',\n",
              " 'benjamin',\n",
              " 'benjaminbratt',\n",
              " 'benkingsley',\n",
              " 'benmendelsohn',\n",
              " 'benstiller',\n",
              " 'bent',\n",
              " 'benwhishaw',\n",
              " 'berlin',\n",
              " 'bernard',\n",
              " 'bessflowers',\n",
              " 'best',\n",
              " 'bestfriend',\n",
              " 'bet',\n",
              " 'beth',\n",
              " 'bethgrant',\n",
              " 'betrayal',\n",
              " 'betrayed',\n",
              " 'better',\n",
              " 'between',\n",
              " 'beverly',\n",
              " 'beyond',\n",
              " 'bible',\n",
              " 'big',\n",
              " 'bigger',\n",
              " 'biggest',\n",
              " 'biker',\n",
              " 'bill',\n",
              " 'billcamp',\n",
              " 'billcobbs',\n",
              " 'billhader',\n",
              " 'billionaire',\n",
              " 'billmurray',\n",
              " 'billnighy',\n",
              " 'billnunn',\n",
              " 'billpaxton',\n",
              " 'billpullman',\n",
              " 'billsmitrovich',\n",
              " 'billy',\n",
              " 'billybobthornton',\n",
              " 'billyburke',\n",
              " 'billyconnolly',\n",
              " 'billycrudup',\n",
              " 'billycrystal',\n",
              " 'billyslaughter',\n",
              " 'billyzane',\n",
              " 'biography',\n",
              " 'bird',\n",
              " 'birds',\n",
              " 'birth',\n",
              " 'birthday',\n",
              " 'bishop',\n",
              " 'bit',\n",
              " 'bite',\n",
              " 'bitter',\n",
              " 'bizarre',\n",
              " 'black',\n",
              " 'blackmail',\n",
              " 'blackpeople',\n",
              " 'blade',\n",
              " 'blake',\n",
              " 'blakeclark',\n",
              " 'blame',\n",
              " 'blind',\n",
              " 'blindness',\n",
              " 'blindnessandimpairedvision',\n",
              " 'blizzard',\n",
              " 'block',\n",
              " 'blonde',\n",
              " 'blood',\n",
              " 'bloodsplatter',\n",
              " 'bloodthirsty',\n",
              " 'bloody',\n",
              " 'blow',\n",
              " 'blue',\n",
              " 'blues',\n",
              " 'blythedanner',\n",
              " 'board',\n",
              " 'boarding',\n",
              " 'boardingschool',\n",
              " 'boat',\n",
              " 'bob',\n",
              " 'bobbalaban',\n",
              " 'bobbergen',\n",
              " 'bobby',\n",
              " 'bobbycannavale',\n",
              " 'bobgunton',\n",
              " 'bobhoskins',\n",
              " 'bobstephenson',\n",
              " 'bodies',\n",
              " 'body',\n",
              " 'bodyguard',\n",
              " 'bomb',\n",
              " 'bombing',\n",
              " 'bond',\n",
              " 'bone',\n",
              " 'bonniehunt',\n",
              " 'book',\n",
              " 'books',\n",
              " 'border',\n",
              " 'bored',\n",
              " 'boring',\n",
              " 'born',\n",
              " 'boss',\n",
              " 'boston',\n",
              " 'both',\n",
              " 'bound',\n",
              " 'boundaries',\n",
              " 'bounty',\n",
              " 'bountyhunter',\n",
              " 'bourne',\n",
              " 'box',\n",
              " 'boxer',\n",
              " 'boxing',\n",
              " 'boy',\n",
              " 'boydholbrook',\n",
              " 'boyfriend',\n",
              " 'boys',\n",
              " 'braddourif',\n",
              " 'bradgarrett',\n",
              " 'bradleycooper',\n",
              " 'bradleywhitford',\n",
              " 'bradpitt',\n",
              " 'brain',\n",
              " 'brand',\n",
              " 'brave',\n",
              " 'bravery',\n",
              " 'brazilian',\n",
              " 'break',\n",
              " 'breaking',\n",
              " 'breaks',\n",
              " 'breckinmeyer',\n",
              " 'brendanfraser',\n",
              " 'brendangleeson',\n",
              " 'brentbriscoe',\n",
              " 'brian',\n",
              " 'briancox',\n",
              " 'briandoyle',\n",
              " 'bride',\n",
              " 'bridge',\n",
              " 'brielarson',\n",
              " 'brien',\n",
              " 'bright',\n",
              " 'brilliant',\n",
              " 'bring',\n",
              " 'bringing',\n",
              " 'brings',\n",
              " 'brink',\n",
              " 'britain',\n",
              " 'british',\n",
              " 'britishsecretservice',\n",
              " 'brittrobertson',\n",
              " 'broadway',\n",
              " 'broke',\n",
              " 'broken',\n",
              " 'brooklyn',\n",
              " 'brothel',\n",
              " 'brother',\n",
              " 'brotherbrotherrelationship',\n",
              " 'brothers',\n",
              " 'brothersisterrelationship',\n",
              " 'brought',\n",
              " 'brown',\n",
              " 'bruce',\n",
              " 'brucealtman',\n",
              " 'brucecampbell',\n",
              " 'brucedavison',\n",
              " 'brucedern',\n",
              " 'brucegreenwood',\n",
              " 'brucemcgill',\n",
              " 'brucespence',\n",
              " 'brucewillis',\n",
              " 'brutal',\n",
              " 'brutality',\n",
              " 'brutally',\n",
              " 'bryan',\n",
              " 'bryancranston',\n",
              " 'buddy',\n",
              " 'buddycop',\n",
              " 'build',\n",
              " 'building',\n",
              " 'built',\n",
              " 'bullet',\n",
              " 'bully',\n",
              " 'bullying',\n",
              " 'bumbling',\n",
              " 'bunch',\n",
              " 'burglar',\n",
              " 'buried',\n",
              " 'burtreynolds',\n",
              " 'burtyoung',\n",
              " 'bus',\n",
              " 'bush',\n",
              " 'business',\n",
              " 'businessman',\n",
              " 'but',\n",
              " 'butler',\n",
              " 'buy',\n",
              " 'by',\n",
              " 'byrne',\n",
              " 'cabin',\n",
              " 'caesar',\n",
              " 'cage',\n",
              " 'california',\n",
              " 'call',\n",
              " 'callahan',\n",
              " 'called',\n",
              " 'calls',\n",
              " 'callumkeithrennie',\n",
              " 'calvin',\n",
              " 'came',\n",
              " 'camera',\n",
              " 'cameronbright',\n",
              " 'camerondiaz',\n",
              " 'camgigandet',\n",
              " 'camp',\n",
              " 'campaign',\n",
              " 'campbell',\n",
              " 'camping',\n",
              " 'campus',\n",
              " 'can',\n",
              " 'canada',\n",
              " 'cancer',\n",
              " 'cannibal',\n",
              " 'cannibalism',\n",
              " 'cannot',\n",
              " 'capable',\n",
              " 'capitalism',\n",
              " 'captain',\n",
              " 'captive',\n",
              " 'capture',\n",
              " 'captured',\n",
              " 'car',\n",
              " 'caraccident',\n",
              " 'carchase',\n",
              " 'carcrash',\n",
              " 'card',\n",
              " 'care',\n",
              " 'career',\n",
              " 'carefree',\n",
              " 'caretaker',\n",
              " 'careymulligan',\n",
              " 'caribbean',\n",
              " 'carl',\n",
              " 'carlagugino',\n",
              " 'carlosalazraqui',\n",
              " 'carmen',\n",
              " 'carol',\n",
              " 'carolineaaron',\n",
              " 'carolinegoodall',\n",
              " 'carpenter',\n",
              " 'carrace',\n",
              " 'carrie',\n",
              " 'carriefisher',\n",
              " 'carry',\n",
              " 'carrying',\n",
              " 'cars',\n",
              " 'carter',\n",
              " 'cary',\n",
              " 'caryelwes',\n",
              " 'case',\n",
              " 'caseyaffleck',\n",
              " 'cash',\n",
              " 'casino',\n",
              " 'cast',\n",
              " 'castle',\n",
              " 'cat',\n",
              " 'cataclysm',\n",
              " 'catastrophe',\n",
              " 'catch',\n",
              " 'catches',\n",
              " 'cateblanchett',\n",
              " 'catherinekeener',\n",
              " 'catherineo',\n",
              " 'catherinezeta',\n",
              " 'catholic',\n",
              " 'catholicism',\n",
              " 'caught',\n",
              " 'cause',\n",
              " 'caused',\n",
              " 'causes',\n",
              " 'causing',\n",
              " 'cave',\n",
              " 'cedrictheentertainer',\n",
              " 'celebration',\n",
              " 'celebrity',\n",
              " 'celiaimrie',\n",
              " 'celiaweston',\n",
              " 'cell',\n",
              " 'cellphone',\n",
              " 'cemetery',\n",
              " 'center',\n",
              " 'centered',\n",
              " 'central',\n",
              " 'centuries',\n",
              " 'century',\n",
              " 'certain',\n",
              " 'chain',\n",
              " 'chainsaw',\n",
              " 'challenge',\n",
              " 'challenged',\n",
              " 'challenges',\n",
              " 'champion',\n",
              " 'championship',\n",
              " 'chance',\n",
              " 'chancekelly',\n",
              " 'change',\n",
              " 'changed',\n",
              " 'changes',\n",
              " 'changing',\n",
              " 'channingtatum',\n",
              " 'chaos',\n",
              " 'chaotic',\n",
              " 'character',\n",
              " 'characters',\n",
              " 'charge',\n",
              " 'charged',\n",
              " 'charismatic',\n",
              " 'charles',\n",
              " 'charlesdance',\n",
              " 'charlesdurning',\n",
              " 'charless',\n",
              " 'charlie',\n",
              " 'charliesheen',\n",
              " 'charlizetheron',\n",
              " 'charlotte',\n",
              " 'charlotterampling',\n",
              " 'charltonheston',\n",
              " 'charming',\n",
              " 'chase',\n",
              " 'chased',\n",
              " 'chasing',\n",
              " 'cheating',\n",
              " 'cheechmarin',\n",
              " 'cheerleader',\n",
              " 'chef',\n",
              " 'chelcieross',\n",
              " 'cher',\n",
              " 'chevychase',\n",
              " 'chicago',\n",
              " 'chief',\n",
              " 'child',\n",
              " 'childabuse',\n",
              " 'childhood',\n",
              " 'childprodigy',\n",
              " 'children',\n",
              " 'chilling',\n",
              " 'china',\n",
              " 'chinese',\n",
              " 'chiwetelejiofor',\n",
              " 'chloëgracemoretz',\n",
              " 'chocolate',\n",
              " 'choice',\n",
              " 'choose',\n",
              " 'chosen',\n",
              " 'chris',\n",
              " 'chriscooper',\n",
              " 'chrisellis',\n",
              " 'chrisevans',\n",
              " 'chrishemsworth',\n",
              " 'chrismessina',\n",
              " 'chrismiller',\n",
              " 'chriso',\n",
              " 'chrispine',\n",
              " 'chrispratt',\n",
              " 'chrisrock',\n",
              " 'christ',\n",
              " 'christian',\n",
              " 'christianbale',\n",
              " 'christianclavier',\n",
              " 'christianity',\n",
              " 'christianslater',\n",
              " 'christinaapplegate',\n",
              " 'christinahendricks',\n",
              " 'christinaricci',\n",
              " 'christmas',\n",
              " 'christmasparty',\n",
              " 'christopher',\n",
              " 'christopherberry',\n",
              " 'christopherlee',\n",
              " 'christopherlloyd',\n",
              " 'christophermcdonald',\n",
              " 'christophermeloni',\n",
              " 'christophermintz',\n",
              " 'christopherplummer',\n",
              " 'christopherwalken',\n",
              " 'christophwaltz',\n",
              " 'chronicles',\n",
              " 'church',\n",
              " 'cia',\n",
              " 'ciaránhinds',\n",
              " 'cillianmurphy',\n",
              " 'cinderella',\n",
              " 'cinema',\n",
              " 'circle',\n",
              " 'circumstances',\n",
              " 'circus',\n",
              " 'citizens',\n",
              " 'city',\n",
              " 'civil',\n",
              " 'civilization',\n",
              " 'claim',\n",
              " 'claims',\n",
              " 'claire',\n",
              " 'clan',\n",
              " 'clancybrown',\n",
              " 'clark',\n",
              " 'clarkgregg',\n",
              " 'clash',\n",
              " 'class',\n",
              " 'classic',\n",
              " 'classmate',\n",
              " 'claude',\n",
              " 'claudevandamme',\n",
              " 'claus',\n",
              " 'cleaduvall',\n",
              " 'clean',\n",
              " 'clear',\n",
              " 'clerk',\n",
              " 'client',\n",
              " 'clients',\n",
              " 'cliffcurtis',\n",
              " 'cliftoncollinsjr',\n",
              " 'climbing',\n",
              " 'clinteastwood',\n",
              " 'clinthoward',\n",
              " 'cliveowen',\n",
              " 'clock',\n",
              " 'clone',\n",
              " 'clorisleachman',\n",
              " 'close',\n",
              " 'closer',\n",
              " 'cloud',\n",
              " 'clouseau',\n",
              " 'clown',\n",
              " 'club',\n",
              " 'clues',\n",
              " 'clydekusatsu',\n",
              " 'co',\n",
              " 'coach',\n",
              " 'coast',\n",
              " 'cocaine',\n",
              " 'code',\n",
              " 'codycameron',\n",
              " 'cohen',\n",
              " 'cold',\n",
              " 'coldwar',\n",
              " 'cole',\n",
              " 'colinfarrell',\n",
              " 'colinfirth',\n",
              " 'colinhanks',\n",
              " 'colinsalmon',\n",
              " 'collapse',\n",
              " 'colleague',\n",
              " 'colleagues',\n",
              " 'collect',\n",
              " 'collection',\n",
              " 'collector',\n",
              " 'colleencamp',\n",
              " 'college',\n",
              " 'collide',\n",
              " 'collision',\n",
              " 'colmfeore',\n",
              " 'colmmeaney',\n",
              " 'colonel',\n",
              " 'colony',\n",
              " 'colorado',\n",
              " 'coma',\n",
              " 'combat',\n",
              " 'come',\n",
              " 'comeback',\n",
              " 'comedian',\n",
              " 'comedy',\n",
              " 'comes',\n",
              " 'comet',\n",
              " 'comic',\n",
              " 'coming',\n",
              " 'comingofage',\n",
              " 'command',\n",
              " 'commander',\n",
              " 'commit',\n",
              " 'commitment',\n",
              " 'committed',\n",
              " 'common',\n",
              " 'community',\n",
              " 'company',\n",
              " 'compete',\n",
              " 'competition',\n",
              " 'complete',\n",
              " 'completely',\n",
              " 'complex',\n",
              " 'complicated',\n",
              " 'complications',\n",
              " 'computer',\n",
              " 'con',\n",
              " 'conan',\n",
              " 'concert',\n",
              " 'confidence',\n",
              " 'conflict',\n",
              " 'confront',\n",
              " 'confronts',\n",
              " 'congress',\n",
              " 'conman',\n",
              " 'connected',\n",
              " 'connection',\n",
              " 'connell',\n",
              " 'connor',\n",
              " 'conquer',\n",
              " 'conradvernon',\n",
              " 'consequences',\n",
              " 'conspiracy',\n",
              " 'construction',\n",
              " 'contact',\n",
              " 'contemporary',\n",
              " 'contend',\n",
              " 'contest',\n",
              " 'continue',\n",
              " 'continues',\n",
              " 'contract',\n",
              " 'control',\n",
              " 'controlled',\n",
              " 'controlling',\n",
              " 'controversial',\n",
              " 'convict',\n",
              " 'convicted',\n",
              " 'convince',\n",
              " 'convinced',\n",
              " 'convinces',\n",
              " 'cook',\n",
              " 'cool',\n",
              " 'cooper',\n",
              " 'cop',\n",
              " 'cops',\n",
              " 'core',\n",
              " 'coreyburton',\n",
              " 'coreyfeldman',\n",
              " 'coreyjohnson',\n",
              " 'coreystoll',\n",
              " 'corporate',\n",
              " 'corporation',\n",
              " 'corpse',\n",
              " 'corrupt',\n",
              " 'corruption',\n",
              " 'cost',\n",
              " 'could',\n",
              " 'count',\n",
              " 'country',\n",
              " 'countryside',\n",
              " 'couple',\n",
              " 'couples',\n",
              " 'courage',\n",
              " 'course',\n",
              " 'court',\n",
              " 'courtcase',\n",
              " 'courtroom',\n",
              " 'cousin',\n",
              " ...]"
            ]
          },
          "execution_count": 70,
          "metadata": {},
          "output_type": "execute_result"
        }
      ],
      "source": [
        "tfidf.get_feature_names()"
      ]
    },
    {
      "cell_type": "code",
      "execution_count": null,
      "metadata": {
        "id": "0QzOoOaAlRxe"
      },
      "outputs": [],
      "source": [
        "vectorized_dataframe = pd.DataFrame(vectorized_data.toarray(), index=movies_df['tags'].index.tolist())"
      ]
    },
    {
      "cell_type": "code",
      "execution_count": null,
      "metadata": {
        "id": "I-TceCPzlUSg",
        "outputId": "df1f15da-da72-4d3b-8aab-e168bc26391a"
      },
      "outputs": [
        {
          "data": {
            "text/html": [
              "<div>\n",
              "<style scoped>\n",
              "    .dataframe tbody tr th:only-of-type {\n",
              "        vertical-align: middle;\n",
              "    }\n",
              "\n",
              "    .dataframe tbody tr th {\n",
              "        vertical-align: top;\n",
              "    }\n",
              "\n",
              "    .dataframe thead th {\n",
              "        text-align: right;\n",
              "    }\n",
              "</style>\n",
              "<table border=\"1\" class=\"dataframe\">\n",
              "  <thead>\n",
              "    <tr style=\"text-align: right;\">\n",
              "      <th></th>\n",
              "      <th>0</th>\n",
              "      <th>1</th>\n",
              "      <th>2</th>\n",
              "      <th>3</th>\n",
              "      <th>4</th>\n",
              "      <th>5</th>\n",
              "      <th>6</th>\n",
              "      <th>7</th>\n",
              "      <th>8</th>\n",
              "      <th>9</th>\n",
              "      <th>...</th>\n",
              "      <th>4990</th>\n",
              "      <th>4991</th>\n",
              "      <th>4992</th>\n",
              "      <th>4993</th>\n",
              "      <th>4994</th>\n",
              "      <th>4995</th>\n",
              "      <th>4996</th>\n",
              "      <th>4997</th>\n",
              "      <th>4998</th>\n",
              "      <th>4999</th>\n",
              "    </tr>\n",
              "  </thead>\n",
              "  <tbody>\n",
              "    <tr>\n",
              "      <th>0</th>\n",
              "      <td>0.0</td>\n",
              "      <td>0.0</td>\n",
              "      <td>0.0</td>\n",
              "      <td>0.0</td>\n",
              "      <td>0.0</td>\n",
              "      <td>0.0</td>\n",
              "      <td>0.0</td>\n",
              "      <td>0.0</td>\n",
              "      <td>0.0</td>\n",
              "      <td>0.0</td>\n",
              "      <td>...</td>\n",
              "      <td>0.0</td>\n",
              "      <td>0.0</td>\n",
              "      <td>0.0</td>\n",
              "      <td>0.0</td>\n",
              "      <td>0.0</td>\n",
              "      <td>0.0</td>\n",
              "      <td>0.0</td>\n",
              "      <td>0.0</td>\n",
              "      <td>0.0</td>\n",
              "      <td>0.0</td>\n",
              "    </tr>\n",
              "    <tr>\n",
              "      <th>1</th>\n",
              "      <td>0.0</td>\n",
              "      <td>0.0</td>\n",
              "      <td>0.0</td>\n",
              "      <td>0.0</td>\n",
              "      <td>0.0</td>\n",
              "      <td>0.0</td>\n",
              "      <td>0.0</td>\n",
              "      <td>0.0</td>\n",
              "      <td>0.0</td>\n",
              "      <td>0.0</td>\n",
              "      <td>...</td>\n",
              "      <td>0.0</td>\n",
              "      <td>0.0</td>\n",
              "      <td>0.0</td>\n",
              "      <td>0.0</td>\n",
              "      <td>0.0</td>\n",
              "      <td>0.0</td>\n",
              "      <td>0.0</td>\n",
              "      <td>0.0</td>\n",
              "      <td>0.0</td>\n",
              "      <td>0.0</td>\n",
              "    </tr>\n",
              "    <tr>\n",
              "      <th>2</th>\n",
              "      <td>0.0</td>\n",
              "      <td>0.0</td>\n",
              "      <td>0.0</td>\n",
              "      <td>0.0</td>\n",
              "      <td>0.0</td>\n",
              "      <td>0.0</td>\n",
              "      <td>0.0</td>\n",
              "      <td>0.0</td>\n",
              "      <td>0.0</td>\n",
              "      <td>0.0</td>\n",
              "      <td>...</td>\n",
              "      <td>0.0</td>\n",
              "      <td>0.0</td>\n",
              "      <td>0.0</td>\n",
              "      <td>0.0</td>\n",
              "      <td>0.0</td>\n",
              "      <td>0.0</td>\n",
              "      <td>0.0</td>\n",
              "      <td>0.0</td>\n",
              "      <td>0.0</td>\n",
              "      <td>0.0</td>\n",
              "    </tr>\n",
              "    <tr>\n",
              "      <th>3</th>\n",
              "      <td>0.0</td>\n",
              "      <td>0.0</td>\n",
              "      <td>0.0</td>\n",
              "      <td>0.0</td>\n",
              "      <td>0.0</td>\n",
              "      <td>0.0</td>\n",
              "      <td>0.0</td>\n",
              "      <td>0.0</td>\n",
              "      <td>0.0</td>\n",
              "      <td>0.0</td>\n",
              "      <td>...</td>\n",
              "      <td>0.0</td>\n",
              "      <td>0.0</td>\n",
              "      <td>0.0</td>\n",
              "      <td>0.0</td>\n",
              "      <td>0.0</td>\n",
              "      <td>0.0</td>\n",
              "      <td>0.0</td>\n",
              "      <td>0.0</td>\n",
              "      <td>0.0</td>\n",
              "      <td>0.0</td>\n",
              "    </tr>\n",
              "    <tr>\n",
              "      <th>4</th>\n",
              "      <td>0.0</td>\n",
              "      <td>0.0</td>\n",
              "      <td>0.0</td>\n",
              "      <td>0.0</td>\n",
              "      <td>0.0</td>\n",
              "      <td>0.0</td>\n",
              "      <td>0.0</td>\n",
              "      <td>0.0</td>\n",
              "      <td>0.0</td>\n",
              "      <td>0.0</td>\n",
              "      <td>...</td>\n",
              "      <td>0.0</td>\n",
              "      <td>0.0</td>\n",
              "      <td>0.0</td>\n",
              "      <td>0.0</td>\n",
              "      <td>0.0</td>\n",
              "      <td>0.0</td>\n",
              "      <td>0.0</td>\n",
              "      <td>0.0</td>\n",
              "      <td>0.0</td>\n",
              "      <td>0.0</td>\n",
              "    </tr>\n",
              "  </tbody>\n",
              "</table>\n",
              "<p>5 rows × 5000 columns</p>\n",
              "</div>"
            ],
            "text/plain": [
              "   0     1     2     3     4     5     6     7     8     9     ...  4990  \\\n",
              "0   0.0   0.0   0.0   0.0   0.0   0.0   0.0   0.0   0.0   0.0  ...   0.0   \n",
              "1   0.0   0.0   0.0   0.0   0.0   0.0   0.0   0.0   0.0   0.0  ...   0.0   \n",
              "2   0.0   0.0   0.0   0.0   0.0   0.0   0.0   0.0   0.0   0.0  ...   0.0   \n",
              "3   0.0   0.0   0.0   0.0   0.0   0.0   0.0   0.0   0.0   0.0  ...   0.0   \n",
              "4   0.0   0.0   0.0   0.0   0.0   0.0   0.0   0.0   0.0   0.0  ...   0.0   \n",
              "\n",
              "   4991  4992  4993  4994  4995  4996  4997  4998  4999  \n",
              "0   0.0   0.0   0.0   0.0   0.0   0.0   0.0   0.0   0.0  \n",
              "1   0.0   0.0   0.0   0.0   0.0   0.0   0.0   0.0   0.0  \n",
              "2   0.0   0.0   0.0   0.0   0.0   0.0   0.0   0.0   0.0  \n",
              "3   0.0   0.0   0.0   0.0   0.0   0.0   0.0   0.0   0.0  \n",
              "4   0.0   0.0   0.0   0.0   0.0   0.0   0.0   0.0   0.0  \n",
              "\n",
              "[5 rows x 5000 columns]"
            ]
          },
          "execution_count": 72,
          "metadata": {},
          "output_type": "execute_result"
        }
      ],
      "source": [
        "vectorized_dataframe.head()"
      ]
    },
    {
      "cell_type": "code",
      "execution_count": null,
      "metadata": {
        "id": "zkTJwGaVld2R",
        "outputId": "2f6a5ed9-f2f5-4a71-bae0-55670b658d43"
      },
      "outputs": [
        {
          "data": {
            "text/plain": [
              "(5693, 5000)"
            ]
          },
          "execution_count": 73,
          "metadata": {},
          "output_type": "execute_result"
        }
      ],
      "source": [
        "vectorized_dataframe.shape"
      ]
    },
    {
      "cell_type": "markdown",
      "source": [
        "Melakukan import SVD"
      ],
      "metadata": {
        "id": "Wtu4O8KqCzyZ"
      }
    },
    {
      "cell_type": "code",
      "execution_count": null,
      "metadata": {
        "id": "zAEp3sNCljw5"
      },
      "outputs": [],
      "source": [
        "from sklearn.decomposition import TruncatedSVD"
      ]
    },
    {
      "cell_type": "code",
      "execution_count": null,
      "metadata": {
        "id": "gii4YaZWlm-S"
      },
      "outputs": [],
      "source": [
        "svd = TruncatedSVD(n_components=3000)\n",
        "\n",
        "reduced_data = svd.fit_transform(vectorized_dataframe)"
      ]
    },
    {
      "cell_type": "code",
      "execution_count": null,
      "metadata": {
        "colab": {
          "base_uri": "https://localhost:8080/"
        },
        "id": "wjP0vOyemCms",
        "outputId": "8d67a666-4d68-438d-ebf8-b6f44965a8e2"
      },
      "outputs": [
        {
          "data": {
            "text/plain": [
              "(5693, 3000)"
            ]
          },
          "execution_count": 76,
          "metadata": {},
          "output_type": "execute_result"
        }
      ],
      "source": [
        "reduced_data.shape"
      ]
    },
    {
      "cell_type": "code",
      "execution_count": null,
      "metadata": {
        "colab": {
          "base_uri": "https://localhost:8080/"
        },
        "id": "CQQu0kn0mFBv",
        "outputId": "5f77ef13-a4e5-4570-ee5a-2abbf87e1eb3"
      },
      "outputs": [
        {
          "data": {
            "text/plain": [
              "array([[ 0.13967568, -0.01557258,  0.0127673 , ..., -0.00456769,\n",
              "         0.00610174, -0.00376419],\n",
              "       [ 0.21360809, -0.03609794, -0.05045262, ...,  0.00717734,\n",
              "         0.00362125,  0.00416193],\n",
              "       [ 0.2477129 ,  0.04772957,  0.08304991, ..., -0.00586337,\n",
              "        -0.006653  , -0.00374593],\n",
              "       ...,\n",
              "       [ 0.25740723, -0.08329857, -0.07535218, ...,  0.01479621,\n",
              "         0.00110183,  0.01514204],\n",
              "       [ 0.27988907, -0.00518125,  0.1164313 , ..., -0.00406979,\n",
              "         0.00033044, -0.00755223],\n",
              "       [ 0.19679089,  0.1673775 , -0.06513705, ...,  0.00450174,\n",
              "        -0.00116318,  0.00477755]])"
            ]
          },
          "execution_count": 77,
          "metadata": {},
          "output_type": "execute_result"
        }
      ],
      "source": [
        "reduced_data"
      ]
    },
    {
      "cell_type": "code",
      "execution_count": null,
      "metadata": {
        "colab": {
          "base_uri": "https://localhost:8080/"
        },
        "id": "dwMfXjTdmIvO",
        "outputId": "0df2130f-fc1e-4cb2-e2cb-0ad28c2ce4f2"
      },
      "outputs": [
        {
          "data": {
            "text/plain": [
              "array([0.00429954, 0.01101739, 0.0165922 , ..., 0.95277415, 0.95283244,\n",
              "       0.95289057])"
            ]
          },
          "execution_count": 78,
          "metadata": {},
          "output_type": "execute_result"
        }
      ],
      "source": [
        "svd.explained_variance_ratio_.cumsum()"
      ]
    },
    {
      "cell_type": "markdown",
      "source": [
        "Melakukan import library cosine"
      ],
      "metadata": {
        "id": "EY293aWeC-mU"
      }
    },
    {
      "cell_type": "code",
      "execution_count": null,
      "metadata": {
        "id": "hFOZ-udbmROv"
      },
      "outputs": [],
      "source": [
        "from sklearn.metrics.pairwise import cosine_similarity"
      ]
    },
    {
      "cell_type": "markdown",
      "source": [
        "Menghitung derajat kesamaan yang mirip"
      ],
      "metadata": {
        "id": "SS7nXgqoDIhx"
      }
    },
    {
      "cell_type": "code",
      "execution_count": null,
      "metadata": {
        "id": "l5hfOk3TmTRS"
      },
      "outputs": [],
      "source": [
        "similarity = cosine_similarity(reduced_data)"
      ]
    },
    {
      "cell_type": "code",
      "execution_count": null,
      "metadata": {
        "colab": {
          "base_uri": "https://localhost:8080/"
        },
        "id": "MvHUBCx6mWju",
        "outputId": "b6dab784-3d63-457f-e80b-21dabe1c6b0e"
      },
      "outputs": [
        {
          "data": {
            "text/plain": [
              "array([[1.        , 0.0406899 , 0.03261471, ..., 0.04720346, 0.12328778,\n",
              "        0.0342825 ],\n",
              "       [0.0406899 , 1.        , 0.03903063, ..., 0.05193432, 0.01965374,\n",
              "        0.03505965],\n",
              "       [0.03261471, 0.03903063, 1.        , ..., 0.05619069, 0.07130095,\n",
              "        0.04909337],\n",
              "       ...,\n",
              "       [0.04720346, 0.05193432, 0.05619069, ..., 1.        , 0.08225456,\n",
              "        0.02693524],\n",
              "       [0.12328778, 0.01965374, 0.07130095, ..., 0.08225456, 1.        ,\n",
              "        0.07209148],\n",
              "       [0.0342825 , 0.03505965, 0.04909337, ..., 0.02693524, 0.07209148,\n",
              "        1.        ]])"
            ]
          },
          "execution_count": 81,
          "metadata": {},
          "output_type": "execute_result"
        }
      ],
      "source": [
        "similarity"
      ]
    },
    {
      "cell_type": "markdown",
      "source": [
        "Membuat fungsi untuk melakukan rekomendasi berdasarkan original tittle"
      ],
      "metadata": {
        "id": "zMZsAvN5DM-q"
      }
    },
    {
      "cell_type": "code",
      "execution_count": null,
      "metadata": {
        "id": "RzgnDOpmma3e"
      },
      "outputs": [],
      "source": [
        "def recomendation_system(movie):\n",
        "    id_of_movie = movies_df[movies_df['original_title']==movie].index[0]\n",
        "    distances = similarity[id_of_movie]\n",
        "    movie_list = sorted(list(enumerate(distances)), reverse=True, key=lambda x:x[1])[1:20]\n",
        "    for movie_id in movie_list:\n",
        "        print(movies_df.iloc[movie_id[0]].original_title + \" (\" + movies_df.iloc[movie_id[0]].release_date + \")\" +\n",
        "              \" : \" + str(movies_df.iloc[movie_id[0]].runtime) + \" Menit\")"
      ]
    },
    {
      "cell_type": "markdown",
      "source": [
        "Menampilkan hasil rekomendasi"
      ],
      "metadata": {
        "id": "d956lGbpDT46"
      }
    },
    {
      "cell_type": "code",
      "execution_count": null,
      "metadata": {
        "colab": {
          "base_uri": "https://localhost:8080/"
        },
        "id": "5mpozuEbmelS",
        "outputId": "70e91a58-0f72-463c-c31e-7688da323cb8"
      },
      "outputs": [
        {
          "name": "stdout",
          "output_type": "stream",
          "text": [
            "The Matrix Revolutions (2003-11-05) : 129 Menit\n",
            "The Matrix Reloaded (2003-05-15) : 138 Menit\n",
            "The Animatrix (2003-05-09) : 102 Menit\n",
            "Commando (1985-10-03) : 90 Menit\n",
            "GHOST IN THE SHELL (1995-11-18) : 83 Menit\n",
            "Terminator 3: Rise of the Machines (2003-07-02) : 109 Menit\n",
            "Hackers (1995-09-14) : 107 Menit\n",
            "Tron (1982-07-09) : 96 Menit\n",
            "Who Am I - Kein System ist sicher (2014-09-25) : 105 Menit\n",
            "The Zero Theorem (2014-01-02) : 107 Menit\n",
            "サマーウォーズ (2009-08-01) : 114 Menit\n",
            "Pompeii (2014-02-18) : 105 Menit\n",
            "Æon Flux (2005-11-30) : 93 Menit\n",
            "Terminator Salvation (2009-05-20) : 115 Menit\n",
            "Strange Days (1995-10-13) : 145 Menit\n",
            "2001: A Space Odyssey (1968-04-10) : 149 Menit\n",
            "攻殻機動隊 2.0 (2008-07-12) : 85 Menit\n",
            "The Colony (2013-04-12) : 95 Menit\n",
            "アップルシード (2004-04-17) : 101 Menit\n"
          ]
        }
      ],
      "source": [
        "recomendation_system('The Matrix')"
      ]
    },
    {
      "cell_type": "code",
      "execution_count": null,
      "metadata": {
        "colab": {
          "base_uri": "https://localhost:8080/"
        },
        "id": "CiCpRg9Bq7ks",
        "outputId": "20ba41ce-2d89-461f-dafd-0c4540a9435b"
      },
      "outputs": [
        {
          "name": "stdout",
          "output_type": "stream",
          "text": [
            "Geri's Game (1997-11-24) : 4 Menit\n",
            "Wreck-It Ralph (2012-11-01) : 108 Menit\n",
            "Alan Partridge: Alpha Papa (2013-07-24) : 90 Menit\n",
            "Stay Alive (2006-03-24) : 100 Menit\n",
            "Dungeons & Dragons (2000-12-08) : 107 Menit\n",
            "Indie Game: The Movie (2012-05-18) : 96 Menit\n",
            "Nerve (2016-07-27) : 96 Menit\n",
            "Panic Room (2002-03-29) : 111 Menit\n",
            "Where the Wild Things Are (2009-10-16) : 101 Menit\n",
            "Jack the Giant Slayer (2013-02-27) : 114 Menit\n",
            "The Smurfs 2 (2013-07-30) : 105 Menit\n",
            "Fantastic Beasts and Where to Find Them (2016-11-16) : 133 Menit\n",
            "The Lorax (2012-03-01) : 86 Menit\n",
            "Zathura: A Space Adventure (2005-11-06) : 101 Menit\n",
            "The Last Starfighter (1984-07-13) : 101 Menit\n",
            "Knights of Badassdom (2013-01-21) : 86 Menit\n",
            "The Running Man (1987-11-13) : 101 Menit\n",
            "The Descent (2005-07-08) : 99 Menit\n",
            "James and the Giant Peach (1996-04-12) : 79 Menit\n"
          ]
        }
      ],
      "source": [
        "recomendation_system('Jumanji')"
      ]
    },
    {
      "cell_type": "markdown",
      "source": [
        "# Model Development dengan Collaborative Filtering"
      ],
      "metadata": {
        "id": "A12bjsdjDY14"
      }
    },
    {
      "cell_type": "markdown",
      "source": [
        "Import library yang dibutuhkan"
      ],
      "metadata": {
        "id": "_MksTJybDfS6"
      }
    },
    {
      "cell_type": "code",
      "execution_count": null,
      "metadata": {
        "id": "uzY80NL46-z4"
      },
      "outputs": [],
      "source": [
        "from surprise import Reader, Dataset, SVD\n",
        "from surprise.model_selection import cross_validate\n",
        "# from surprise.model_selection import KFold\n",
        "reader = Reader()\n",
        "\n",
        "data = Dataset.load_from_df(rating[['userId', 'movieId', 'rating']], reader)\n",
        "# kf = KFold(n_splits=5)\n",
        "# kf.split(data)"
      ]
    },
    {
      "cell_type": "markdown",
      "source": [
        "Menampilkan hasil persamaan yang mirip dengan matrik RMSE dan MAE"
      ],
      "metadata": {
        "id": "WP6IDn14Dnzz"
      }
    },
    {
      "cell_type": "code",
      "execution_count": null,
      "metadata": {
        "id": "uNwUU7_F6-z5",
        "outputId": "6cd1ac7f-46f7-4d85-bad6-5b7a652a7097"
      },
      "outputs": [
        {
          "data": {
            "text/plain": [
              "{'test_rmse': array([0.79592337, 0.79580482, 0.79638364, 0.79607742, 0.79646898]),\n",
              " 'test_mae': array([0.60202421, 0.60205324, 0.60237745, 0.60208224, 0.60236943]),\n",
              " 'fit_time': (1105.1874415874481,\n",
              "  1211.0096752643585,\n",
              "  1130.2293117046356,\n",
              "  925.8258974552155,\n",
              "  922.4190316200256),\n",
              " 'test_time': (100.8700098991394,\n",
              "  81.1241545677185,\n",
              "  73.2940309047699,\n",
              "  73.67203617095947,\n",
              "  58.85498881340027)}"
            ]
          },
          "execution_count": 91,
          "metadata": {},
          "output_type": "execute_result"
        }
      ],
      "source": [
        "Svd = SVD()\n",
        "cross_validate(Svd, data, measures=['RMSE', 'MAE'], cv=5)"
      ]
    },
    {
      "cell_type": "markdown",
      "source": [
        "Melakukan pemodelan menggunakan data train"
      ],
      "metadata": {
        "id": "Koz6gcdDDwPy"
      }
    },
    {
      "cell_type": "code",
      "execution_count": null,
      "metadata": {
        "id": "tDD8Jq2L6-z5",
        "outputId": "6f2d23a9-516d-4abd-83bc-b592efc4ca6e"
      },
      "outputs": [
        {
          "data": {
            "text/plain": [
              "<surprise.prediction_algorithms.matrix_factorization.SVD at 0x11293186d60>"
            ]
          },
          "execution_count": 100,
          "metadata": {},
          "output_type": "execute_result"
        }
      ],
      "source": [
        "trainset = data.build_full_trainset()\n",
        "Svd.fit(trainset)"
      ]
    },
    {
      "cell_type": "markdown",
      "source": [
        "Menampilkan hasil dengan user ID 1"
      ],
      "metadata": {
        "id": "OmXPwH85D2EX"
      }
    },
    {
      "cell_type": "code",
      "execution_count": null,
      "metadata": {
        "id": "jcBzrZjo6-z5",
        "outputId": "27a5ce1f-0e55-453d-e1f9-ed241a222ab5"
      },
      "outputs": [
        {
          "data": {
            "text/html": [
              "<div>\n",
              "<style scoped>\n",
              "    .dataframe tbody tr th:only-of-type {\n",
              "        vertical-align: middle;\n",
              "    }\n",
              "\n",
              "    .dataframe tbody tr th {\n",
              "        vertical-align: top;\n",
              "    }\n",
              "\n",
              "    .dataframe thead th {\n",
              "        text-align: right;\n",
              "    }\n",
              "</style>\n",
              "<table border=\"1\" class=\"dataframe\">\n",
              "  <thead>\n",
              "    <tr style=\"text-align: right;\">\n",
              "      <th></th>\n",
              "      <th>userId</th>\n",
              "      <th>movieId</th>\n",
              "      <th>rating</th>\n",
              "      <th>timestamp</th>\n",
              "    </tr>\n",
              "  </thead>\n",
              "  <tbody>\n",
              "    <tr>\n",
              "      <th>0</th>\n",
              "      <td>1</td>\n",
              "      <td>110</td>\n",
              "      <td>1.0</td>\n",
              "      <td>1425941529</td>\n",
              "    </tr>\n",
              "    <tr>\n",
              "      <th>1</th>\n",
              "      <td>1</td>\n",
              "      <td>147</td>\n",
              "      <td>4.5</td>\n",
              "      <td>1425942435</td>\n",
              "    </tr>\n",
              "    <tr>\n",
              "      <th>2</th>\n",
              "      <td>1</td>\n",
              "      <td>858</td>\n",
              "      <td>5.0</td>\n",
              "      <td>1425941523</td>\n",
              "    </tr>\n",
              "    <tr>\n",
              "      <th>3</th>\n",
              "      <td>1</td>\n",
              "      <td>1221</td>\n",
              "      <td>5.0</td>\n",
              "      <td>1425941546</td>\n",
              "    </tr>\n",
              "    <tr>\n",
              "      <th>4</th>\n",
              "      <td>1</td>\n",
              "      <td>1246</td>\n",
              "      <td>5.0</td>\n",
              "      <td>1425941556</td>\n",
              "    </tr>\n",
              "    <tr>\n",
              "      <th>5</th>\n",
              "      <td>1</td>\n",
              "      <td>1968</td>\n",
              "      <td>4.0</td>\n",
              "      <td>1425942148</td>\n",
              "    </tr>\n",
              "    <tr>\n",
              "      <th>6</th>\n",
              "      <td>1</td>\n",
              "      <td>2762</td>\n",
              "      <td>4.5</td>\n",
              "      <td>1425941300</td>\n",
              "    </tr>\n",
              "    <tr>\n",
              "      <th>7</th>\n",
              "      <td>1</td>\n",
              "      <td>2918</td>\n",
              "      <td>5.0</td>\n",
              "      <td>1425941593</td>\n",
              "    </tr>\n",
              "    <tr>\n",
              "      <th>8</th>\n",
              "      <td>1</td>\n",
              "      <td>2959</td>\n",
              "      <td>4.0</td>\n",
              "      <td>1425941601</td>\n",
              "    </tr>\n",
              "    <tr>\n",
              "      <th>9</th>\n",
              "      <td>1</td>\n",
              "      <td>4226</td>\n",
              "      <td>4.0</td>\n",
              "      <td>1425942228</td>\n",
              "    </tr>\n",
              "    <tr>\n",
              "      <th>10</th>\n",
              "      <td>1</td>\n",
              "      <td>4878</td>\n",
              "      <td>5.0</td>\n",
              "      <td>1425941434</td>\n",
              "    </tr>\n",
              "    <tr>\n",
              "      <th>11</th>\n",
              "      <td>1</td>\n",
              "      <td>5577</td>\n",
              "      <td>5.0</td>\n",
              "      <td>1425941397</td>\n",
              "    </tr>\n",
              "    <tr>\n",
              "      <th>12</th>\n",
              "      <td>1</td>\n",
              "      <td>33794</td>\n",
              "      <td>4.0</td>\n",
              "      <td>1425942005</td>\n",
              "    </tr>\n",
              "    <tr>\n",
              "      <th>13</th>\n",
              "      <td>1</td>\n",
              "      <td>54503</td>\n",
              "      <td>3.5</td>\n",
              "      <td>1425941313</td>\n",
              "    </tr>\n",
              "    <tr>\n",
              "      <th>14</th>\n",
              "      <td>1</td>\n",
              "      <td>58559</td>\n",
              "      <td>4.0</td>\n",
              "      <td>1425942007</td>\n",
              "    </tr>\n",
              "    <tr>\n",
              "      <th>15</th>\n",
              "      <td>1</td>\n",
              "      <td>59315</td>\n",
              "      <td>5.0</td>\n",
              "      <td>1425941502</td>\n",
              "    </tr>\n",
              "    <tr>\n",
              "      <th>16</th>\n",
              "      <td>1</td>\n",
              "      <td>68358</td>\n",
              "      <td>5.0</td>\n",
              "      <td>1425941464</td>\n",
              "    </tr>\n",
              "    <tr>\n",
              "      <th>17</th>\n",
              "      <td>1</td>\n",
              "      <td>69844</td>\n",
              "      <td>5.0</td>\n",
              "      <td>1425942139</td>\n",
              "    </tr>\n",
              "    <tr>\n",
              "      <th>18</th>\n",
              "      <td>1</td>\n",
              "      <td>73017</td>\n",
              "      <td>5.0</td>\n",
              "      <td>1425942699</td>\n",
              "    </tr>\n",
              "    <tr>\n",
              "      <th>19</th>\n",
              "      <td>1</td>\n",
              "      <td>81834</td>\n",
              "      <td>5.0</td>\n",
              "      <td>1425942133</td>\n",
              "    </tr>\n",
              "    <tr>\n",
              "      <th>20</th>\n",
              "      <td>1</td>\n",
              "      <td>91500</td>\n",
              "      <td>2.5</td>\n",
              "      <td>1425942647</td>\n",
              "    </tr>\n",
              "    <tr>\n",
              "      <th>21</th>\n",
              "      <td>1</td>\n",
              "      <td>91542</td>\n",
              "      <td>5.0</td>\n",
              "      <td>1425942618</td>\n",
              "    </tr>\n",
              "    <tr>\n",
              "      <th>22</th>\n",
              "      <td>1</td>\n",
              "      <td>92439</td>\n",
              "      <td>5.0</td>\n",
              "      <td>1425941424</td>\n",
              "    </tr>\n",
              "    <tr>\n",
              "      <th>23</th>\n",
              "      <td>1</td>\n",
              "      <td>96821</td>\n",
              "      <td>5.0</td>\n",
              "      <td>1425941382</td>\n",
              "    </tr>\n",
              "    <tr>\n",
              "      <th>24</th>\n",
              "      <td>1</td>\n",
              "      <td>98809</td>\n",
              "      <td>0.5</td>\n",
              "      <td>1425942640</td>\n",
              "    </tr>\n",
              "    <tr>\n",
              "      <th>25</th>\n",
              "      <td>1</td>\n",
              "      <td>99114</td>\n",
              "      <td>4.0</td>\n",
              "      <td>1425941667</td>\n",
              "    </tr>\n",
              "    <tr>\n",
              "      <th>26</th>\n",
              "      <td>1</td>\n",
              "      <td>112552</td>\n",
              "      <td>5.0</td>\n",
              "      <td>1425941336</td>\n",
              "    </tr>\n",
              "  </tbody>\n",
              "</table>\n",
              "</div>"
            ],
            "text/plain": [
              "    userId  movieId  rating   timestamp\n",
              "0        1      110     1.0  1425941529\n",
              "1        1      147     4.5  1425942435\n",
              "2        1      858     5.0  1425941523\n",
              "3        1     1221     5.0  1425941546\n",
              "4        1     1246     5.0  1425941556\n",
              "5        1     1968     4.0  1425942148\n",
              "6        1     2762     4.5  1425941300\n",
              "7        1     2918     5.0  1425941593\n",
              "8        1     2959     4.0  1425941601\n",
              "9        1     4226     4.0  1425942228\n",
              "10       1     4878     5.0  1425941434\n",
              "11       1     5577     5.0  1425941397\n",
              "12       1    33794     4.0  1425942005\n",
              "13       1    54503     3.5  1425941313\n",
              "14       1    58559     4.0  1425942007\n",
              "15       1    59315     5.0  1425941502\n",
              "16       1    68358     5.0  1425941464\n",
              "17       1    69844     5.0  1425942139\n",
              "18       1    73017     5.0  1425942699\n",
              "19       1    81834     5.0  1425942133\n",
              "20       1    91500     2.5  1425942647\n",
              "21       1    91542     5.0  1425942618\n",
              "22       1    92439     5.0  1425941424\n",
              "23       1    96821     5.0  1425941382\n",
              "24       1    98809     0.5  1425942640\n",
              "25       1    99114     4.0  1425941667\n",
              "26       1   112552     5.0  1425941336"
            ]
          },
          "execution_count": 105,
          "metadata": {},
          "output_type": "execute_result"
        }
      ],
      "source": [
        "rating[rating['userId'] == 1]"
      ]
    },
    {
      "cell_type": "markdown",
      "source": [
        "Menampilkan contoh dari user Id 1 dan Id movie 302"
      ],
      "metadata": {
        "id": "1TeR2dJ3D7mc"
      }
    },
    {
      "cell_type": "code",
      "execution_count": null,
      "metadata": {
        "id": "Ci7JoUW96-z5",
        "outputId": "dc3a1cd8-1ed5-4c44-daf1-7dea20373961"
      },
      "outputs": [
        {
          "data": {
            "text/plain": [
              "Prediction(uid=1, iid=302, r_ui=3, est=4.128843645453536, details={'was_impossible': False})"
            ]
          },
          "execution_count": 107,
          "metadata": {},
          "output_type": "execute_result"
        }
      ],
      "source": [
        "Svd.predict(1, 302, 3)"
      ]
    }
  ],
  "metadata": {
    "colab": {
      "collapsed_sections": [],
      "provenance": []
    },
    "kernelspec": {
      "display_name": "Python 3 (ipykernel)",
      "language": "python",
      "name": "python3"
    },
    "language_info": {
      "codemirror_mode": {
        "name": "ipython",
        "version": 3
      },
      "file_extension": ".py",
      "mimetype": "text/x-python",
      "name": "python",
      "nbconvert_exporter": "python",
      "pygments_lexer": "ipython3",
      "version": "3.9.7"
    }
  },
  "nbformat": 4,
  "nbformat_minor": 0
}